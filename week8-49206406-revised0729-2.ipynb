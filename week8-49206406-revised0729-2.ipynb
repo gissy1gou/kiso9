{
 "cells": [
  {
   "cell_type": "markdown",
   "metadata": {},
   "source": [
    "# 第8回課題"
   ]
  },
  {
   "cell_type": "markdown",
   "metadata": {},
   "source": [
    "# 課題１説明付き銀行口座\n",
    "help(doctest.testmod) を試したりしました。"
   ]
  },
  {
   "cell_type": "code",
   "execution_count": 74,
   "metadata": {},
   "outputs": [],
   "source": [
    "class BankAccount:\n",
    "    def __init__(self, initial_balance): \n",
    "        \"\"\"enter initial balanve to one's balance\"\"\"\n",
    "\n",
    "        \n",
    "        self.balance = initial_balance\n",
    "\n",
    "    def withdraw(self, amount):\n",
    "        \"\"\"withdraw one's amount from their balance\n",
    "        \n",
    "        >>> a = BankAccount(10000) \n",
    "        >>> b = BankAccount(10000)  \n",
    "        >>> a.withdraw(5000)\n",
    "        5000\n",
    "        \"\"\"\n",
    "        \n",
    "        if self.balance >= amount:\n",
    "            self.balance -= amount\n",
    "            return self.balance\n",
    "        else:\n",
    "            return \"Insufficient funds\"\n",
    "        "
   ]
  },
  {
   "cell_type": "code",
   "execution_count": 75,
   "metadata": {},
   "outputs": [
    {
     "data": {
      "text/plain": [
       "TestResults(failed=0, attempted=20)"
      ]
     },
     "execution_count": 75,
     "metadata": {},
     "output_type": "execute_result"
    }
   ],
   "source": [
    "import doctest\n",
    "doctest.testmod()"
   ]
  },
  {
   "cell_type": "code",
   "execution_count": 76,
   "metadata": {
    "scrolled": false
   },
   "outputs": [
    {
     "name": "stdout",
     "output_type": "stream",
     "text": [
      "Trying:\n",
      "    a = BankAccount(10000) \n",
      "Expecting nothing\n",
      "ok\n",
      "Trying:\n",
      "    b = BankAccount(10000)  \n",
      "Expecting nothing\n",
      "ok\n",
      "Trying:\n",
      "    a.withdraw(5000)\n",
      "Expecting:\n",
      "    5000\n",
      "ok\n",
      "Trying:\n",
      "    timer = ClockTimer(22,54,12)\n",
      "Expecting nothing\n",
      "ok\n",
      "Trying:\n",
      "    timer.tick()\n",
      "Expecting nothing\n",
      "ok\n",
      "Trying:\n",
      "    cc = ConsoleClock(timer)\n",
      "Expecting nothing\n",
      "ok\n",
      "Trying:\n",
      "    timer.tick()\n",
      "Expecting:\n",
      "    22:54:14\n",
      "ok\n",
      "Trying:\n",
      "    timer.tick()\n",
      "Expecting:\n",
      "    22:54:15\n",
      "ok\n",
      "Trying:\n",
      "    timer.detach(cc)\n",
      "Expecting nothing\n",
      "ok\n",
      "Trying:\n",
      "    timer.tick()\n",
      "Expecting nothing\n",
      "ok\n",
      "Trying:\n",
      "    cc1 = ConsoleClock(timer)\n",
      "Expecting nothing\n",
      "ok\n",
      "Trying:\n",
      "    cc2 = ConsoleClock(timer)\n",
      "Expecting nothing\n",
      "ok\n",
      "Trying:\n",
      "    timer.tick()\n",
      "Expecting:\n",
      "    22:54:17\n",
      "    22:54:17\n",
      "ok\n",
      "Trying:\n",
      "    timer.tick()\n",
      "Expecting:\n",
      "    22:54:18\n",
      "    22:54:18\n",
      "ok\n",
      "Trying:\n",
      "    timer = ClockTimer(22,54,12)\n",
      "Expecting nothing\n",
      "ok\n",
      "Trying:\n",
      "    cd = CountDownClock(timer, 3)\n",
      "Expecting nothing\n",
      "ok\n",
      "Trying:\n",
      "    timer.tick()\n",
      "Expecting:\n",
      "    3\n",
      "ok\n",
      "Trying:\n",
      "    timer.tick()\n",
      "Expecting:\n",
      "    2\n",
      "ok\n",
      "Trying:\n",
      "    timer.tick()\n",
      "Expecting:\n",
      "    1\n",
      "ok\n",
      "Trying:\n",
      "    timer.tick()\n",
      "Expecting:\n",
      "    !!!\n",
      "ok\n",
      "23 items had no tests:\n",
      "    __main__\n",
      "    __main__.BankAccount\n",
      "    __main__.BankAccount.__init__\n",
      "    __main__.ClockTimer\n",
      "    __main__.ClockTimer.__init__\n",
      "    __main__.ClockTimer.tick\n",
      "    __main__.ConsoleClock.__init__\n",
      "    __main__.ConsoleClock.clock_to_string\n",
      "    __main__.ConsoleClock.update\n",
      "    __main__.CountDownClock.__init__\n",
      "    __main__.CountDownClock.clock_to_string\n",
      "    __main__.CountDownClock.update\n",
      "    __main__.Counter\n",
      "    __main__.Counter.__init__\n",
      "    __main__.Counter.count\n",
      "    __main__.Counter.increment\n",
      "    __main__.Observer\n",
      "    __main__.Observer.update\n",
      "    __main__.Subject\n",
      "    __main__.Subject.__init__\n",
      "    __main__.Subject.attach\n",
      "    __main__.Subject.detach\n",
      "    __main__.Subject.notify\n",
      "3 items passed all tests:\n",
      "   3 tests in __main__.BankAccount.withdraw\n",
      "  11 tests in __main__.ConsoleClock\n",
      "   6 tests in __main__.CountDownClock\n",
      "20 tests in 26 items.\n",
      "20 passed and 0 failed.\n",
      "Test passed.\n"
     ]
    },
    {
     "data": {
      "text/plain": [
       "TestResults(failed=0, attempted=20)"
      ]
     },
     "execution_count": 76,
     "metadata": {},
     "output_type": "execute_result"
    }
   ],
   "source": [
    "import doctest\n",
    "doctest.testmod(verbose = True)"
   ]
  },
  {
   "cell_type": "code",
   "execution_count": 77,
   "metadata": {
    "scrolled": true
   },
   "outputs": [
    {
     "name": "stdout",
     "output_type": "stream",
     "text": [
      "Help on class BankAccount in module __main__:\n",
      "\n",
      "class BankAccount(builtins.object)\n",
      " |  BankAccount(initial_balance)\n",
      " |  \n",
      " |  Methods defined here:\n",
      " |  \n",
      " |  __init__(self, initial_balance)\n",
      " |      enter initial balanve to one's balance\n",
      " |  \n",
      " |  withdraw(self, amount)\n",
      " |      withdraw one's amount from their balance\n",
      " |      \n",
      " |      >>> a = BankAccount(10000) \n",
      " |      >>> b = BankAccount(10000)  \n",
      " |      >>> a.withdraw(5000)\n",
      " |      5000\n",
      " |  \n",
      " |  ----------------------------------------------------------------------\n",
      " |  Data descriptors defined here:\n",
      " |  \n",
      " |  __dict__\n",
      " |      dictionary for instance variables (if defined)\n",
      " |  \n",
      " |  __weakref__\n",
      " |      list of weak references to the object (if defined)\n",
      "\n"
     ]
    }
   ],
   "source": [
    "help(BankAccount)"
   ]
  },
  {
   "cell_type": "code",
   "execution_count": 78,
   "metadata": {},
   "outputs": [
    {
     "name": "stdout",
     "output_type": "stream",
     "text": [
      "Help on function withdraw in module __main__:\n",
      "\n",
      "withdraw(self, amount)\n",
      "    withdraw one's amount from their balance\n",
      "    \n",
      "    >>> a = BankAccount(10000) \n",
      "    >>> b = BankAccount(10000)  \n",
      "    >>> a.withdraw(5000)\n",
      "    5000\n",
      "\n"
     ]
    }
   ],
   "source": [
    "help(BankAccount.withdraw)"
   ]
  },
  {
   "cell_type": "markdown",
   "metadata": {},
   "source": [
    "# 課題2 複数のobserver\n",
    "２つつくと、2つとも時間がすすむのが面白かった。"
   ]
  },
  {
   "cell_type": "code",
   "execution_count": 79,
   "metadata": {},
   "outputs": [],
   "source": [
    "import abc\n",
    "class Observer(abc.ABC):\n",
    "    \"\"\"abstract observer class\"\"\"\n",
    "    @abc.abstractmethod\n",
    "    def update(self):\n",
    "        \"\"\"update status\"\"\"\n",
    "        pass\n",
    "    \n",
    "class Subject:\n",
    "    \"\"\"abstract subject class\"\"\"\n",
    "    def __init__(self):\n",
    "        self.observers = []\n",
    "    def attach(self, an_observer):\n",
    "        \"\"\"add observer to the lost\"\"\"\n",
    "        self.observers.append(an_observer)\n",
    "    def detach(self, an_observer):\n",
    "        \"\"\"remove observer from the list\"\"\"\n",
    "        self.observers.remove(an_observer)\n",
    "    def notify(self):\n",
    "        \"\"\"call update() for all observers\"\"\"\n",
    "        for o in self.observers:\n",
    "            o.update()"
   ]
  },
  {
   "cell_type": "code",
   "execution_count": 80,
   "metadata": {},
   "outputs": [],
   "source": [
    "class ClockTimer(Subject):\n",
    "    \"\"\"a class manages time (self.hour, self.minute, and self.second)\"\"\"\n",
    "    def __init__(self,hour,minute,second):\n",
    "        super().__init__()\n",
    "        self.counter = 0\n",
    "        self.hour = hour\n",
    "        self.mimute = minute\n",
    "        self.second = second\n",
    "        self.counter = 3600*hour + 60*minute + second\n",
    "        \n",
    "    def tick(self):\n",
    "        self.counter = self.counter + 1\n",
    "        self.hour = self.counter//3600\n",
    "        self.minute = (self.counter - self.hour*3600)//60\n",
    "        self.second = self.counter - self.hour*3600 - self.minute*60\n",
    "        self.notify()\n",
    "\n",
    "class Counter:\n",
    "    def __init__(self):\n",
    "        self.__counter = 0\n",
    "    def increment(self):\n",
    "        self.__counter += 1\n",
    "        return self.__counter\n",
    "    def count(self):\n",
    "        return self.__counter"
   ]
  },
  {
   "cell_type": "code",
   "execution_count": 81,
   "metadata": {},
   "outputs": [],
   "source": [
    "class ConsoleClock(Observer):\n",
    "    \"\"\"display time in console\n",
    "    \n",
    "    >>> timer = ClockTimer(22,54,12)\n",
    "    >>> timer.tick()\n",
    "    \n",
    "    >>> cc = ConsoleClock(timer)\n",
    "    >>> timer.tick()\n",
    "    22:54:14\n",
    "    \n",
    "    >>> timer.tick()\n",
    "    22:54:15\n",
    "    \n",
    "    >>> timer.detach(cc)\n",
    "    >>> timer.tick()\n",
    "    \n",
    "    >>> cc1 = ConsoleClock(timer)\n",
    "    \n",
    "    >>> cc2 = ConsoleClock(timer)\n",
    "    \n",
    "    >>> timer.tick()\n",
    "    22:54:17\n",
    "    22:54:17\n",
    "    \n",
    "    >>> timer.tick()\n",
    "    22:54:18\n",
    "    22:54:18\n",
    "    \n",
    "    \"\"\"\n",
    "    \n",
    "    def __init__(self,subject):\n",
    "        \"\"\"create ConsoleClock and attach to subject\"\"\"\n",
    "        super().__init__()\n",
    "        self.subject = subject\n",
    "        self.subject.attach(self)\n",
    "        ##ここのselfってなに？\n",
    "        \n",
    "    def clock_to_string(self, clock):\n",
    "        return \"{:02d}:{:02d}:{:02d}\".format(clock.hour, clock.minute, clock.second)\n",
    "    \n",
    "    def update(self):\n",
    "        print(self.clock_to_string(self.subject))\n"
   ]
  },
  {
   "cell_type": "code",
   "execution_count": 82,
   "metadata": {},
   "outputs": [
    {
     "name": "stdout",
     "output_type": "stream",
     "text": [
      "Trying:\n",
      "    a = BankAccount(10000) \n",
      "Expecting nothing\n",
      "ok\n",
      "Trying:\n",
      "    b = BankAccount(10000)  \n",
      "Expecting nothing\n",
      "ok\n",
      "Trying:\n",
      "    a.withdraw(5000)\n",
      "Expecting:\n",
      "    5000\n",
      "ok\n",
      "Trying:\n",
      "    timer = ClockTimer(22,54,12)\n",
      "Expecting nothing\n",
      "ok\n",
      "Trying:\n",
      "    timer.tick()\n",
      "Expecting nothing\n",
      "ok\n",
      "Trying:\n",
      "    cc = ConsoleClock(timer)\n",
      "Expecting nothing\n",
      "ok\n",
      "Trying:\n",
      "    timer.tick()\n",
      "Expecting:\n",
      "    22:54:14\n",
      "ok\n",
      "Trying:\n",
      "    timer.tick()\n",
      "Expecting:\n",
      "    22:54:15\n",
      "ok\n",
      "Trying:\n",
      "    timer.detach(cc)\n",
      "Expecting nothing\n",
      "ok\n",
      "Trying:\n",
      "    timer.tick()\n",
      "Expecting nothing\n",
      "ok\n",
      "Trying:\n",
      "    cc1 = ConsoleClock(timer)\n",
      "Expecting nothing\n",
      "ok\n",
      "Trying:\n",
      "    cc2 = ConsoleClock(timer)\n",
      "Expecting nothing\n",
      "ok\n",
      "Trying:\n",
      "    timer.tick()\n",
      "Expecting:\n",
      "    22:54:17\n",
      "    22:54:17\n",
      "ok\n",
      "Trying:\n",
      "    timer.tick()\n",
      "Expecting:\n",
      "    22:54:18\n",
      "    22:54:18\n",
      "ok\n",
      "Trying:\n",
      "    timer = ClockTimer(22,54,12)\n",
      "Expecting nothing\n",
      "ok\n",
      "Trying:\n",
      "    cd = CountDownClock(timer, 3)\n",
      "Expecting nothing\n",
      "ok\n",
      "Trying:\n",
      "    timer.tick()\n",
      "Expecting:\n",
      "    3\n",
      "ok\n",
      "Trying:\n",
      "    timer.tick()\n",
      "Expecting:\n",
      "    2\n",
      "ok\n",
      "Trying:\n",
      "    timer.tick()\n",
      "Expecting:\n",
      "    1\n",
      "ok\n",
      "Trying:\n",
      "    timer.tick()\n",
      "Expecting:\n",
      "    !!!\n",
      "ok\n",
      "23 items had no tests:\n",
      "    __main__\n",
      "    __main__.BankAccount\n",
      "    __main__.BankAccount.__init__\n",
      "    __main__.ClockTimer\n",
      "    __main__.ClockTimer.__init__\n",
      "    __main__.ClockTimer.tick\n",
      "    __main__.ConsoleClock.__init__\n",
      "    __main__.ConsoleClock.clock_to_string\n",
      "    __main__.ConsoleClock.update\n",
      "    __main__.CountDownClock.__init__\n",
      "    __main__.CountDownClock.clock_to_string\n",
      "    __main__.CountDownClock.update\n",
      "    __main__.Counter\n",
      "    __main__.Counter.__init__\n",
      "    __main__.Counter.count\n",
      "    __main__.Counter.increment\n",
      "    __main__.Observer\n",
      "    __main__.Observer.update\n",
      "    __main__.Subject\n",
      "    __main__.Subject.__init__\n",
      "    __main__.Subject.attach\n",
      "    __main__.Subject.detach\n",
      "    __main__.Subject.notify\n",
      "3 items passed all tests:\n",
      "   3 tests in __main__.BankAccount.withdraw\n",
      "  11 tests in __main__.ConsoleClock\n",
      "   6 tests in __main__.CountDownClock\n",
      "20 tests in 26 items.\n",
      "20 passed and 0 failed.\n",
      "Test passed.\n"
     ]
    },
    {
     "data": {
      "text/plain": [
       "TestResults(failed=0, attempted=20)"
      ]
     },
     "execution_count": 82,
     "metadata": {},
     "output_type": "execute_result"
    }
   ],
   "source": [
    "import doctest\n",
    "doctest.testmod(verbose = True)"
   ]
  },
  {
   "cell_type": "code",
   "execution_count": 83,
   "metadata": {},
   "outputs": [],
   "source": [
    "timer = ClockTimer(22,54,12)\n",
    "timer.tick()"
   ]
  },
  {
   "cell_type": "code",
   "execution_count": 84,
   "metadata": {},
   "outputs": [
    {
     "name": "stdout",
     "output_type": "stream",
     "text": [
      "22:54:14\n"
     ]
    }
   ],
   "source": [
    "cc = ConsoleClock(timer)\n",
    "timer.tick()"
   ]
  },
  {
   "cell_type": "code",
   "execution_count": 85,
   "metadata": {},
   "outputs": [
    {
     "name": "stdout",
     "output_type": "stream",
     "text": [
      "22:54:15\n"
     ]
    }
   ],
   "source": [
    "timer.tick()"
   ]
  },
  {
   "cell_type": "code",
   "execution_count": 86,
   "metadata": {},
   "outputs": [],
   "source": [
    "timer.detach(cc)\n",
    "timer.tick()"
   ]
  },
  {
   "cell_type": "code",
   "execution_count": 87,
   "metadata": {},
   "outputs": [],
   "source": [
    "cc1 = ConsoleClock(timer)\n",
    "cc2 = ConsoleClock(timer)"
   ]
  },
  {
   "cell_type": "code",
   "execution_count": 88,
   "metadata": {},
   "outputs": [
    {
     "name": "stdout",
     "output_type": "stream",
     "text": [
      "22:54:17\n",
      "22:54:17\n"
     ]
    }
   ],
   "source": [
    "timer.tick()"
   ]
  },
  {
   "cell_type": "code",
   "execution_count": 89,
   "metadata": {},
   "outputs": [
    {
     "name": "stdout",
     "output_type": "stream",
     "text": [
      "22:54:18\n",
      "22:54:18\n"
     ]
    }
   ],
   "source": [
    "timer.tick()"
   ]
  },
  {
   "cell_type": "markdown",
   "metadata": {},
   "source": [
    "# 課題3 CountDownClock\n",
    "doctest で、\n",
    "timer = ClockTimer(22,54,12)\n",
    "を先につける必要があるのに気づくのに時間がかかった。\n",
    "\n",
    "先につけた2つの時計がどんどん進むばかりでCountDownClockが全然表示されないので焦った。\n",
    "\n",
    "CountDownClockのdoctestがうまくいかないせいで課題1,2のdoctestも動かなくなって焦った。"
   ]
  },
  {
   "cell_type": "code",
   "execution_count": 93,
   "metadata": {},
   "outputs": [],
   "source": [
    "class CountDownClock(Observer):\n",
    "    \"\"\"count down time\n",
    "    \n",
    "    >>> timer = ClockTimer(22,54,12)\n",
    "    >>> cd = CountDownClock(timer, 3)\n",
    "    >>> timer.tick()\n",
    "    3\n",
    "    >>> timer.tick()\n",
    "    2\n",
    "    >>> timer.tick()\n",
    "    1\n",
    "    >>> timer.tick()\n",
    "    !!!\n",
    "    \n",
    "   \n",
    "    \"\"\"\n",
    "    \n",
    "    def __init__(self,subject,sec):\n",
    "        super().__init__()\n",
    "        self.subject = subject\n",
    "        self.second = subject.second\n",
    "        self.remain = sec\n",
    "        self.subject.attach(self)\n",
    "        \n",
    "    def clock_to_string(self,clock):\n",
    "        s = clock.second - self.second\n",
    "        count = self.remain - s + 1\n",
    "        if count == 0:\n",
    "            return \"!!!\"\n",
    "        return count\n",
    "    \n",
    "    def update(self):\n",
    "        print(self.clock_to_string(self.subject))\n",
    "    "
   ]
  },
  {
   "cell_type": "code",
   "execution_count": 94,
   "metadata": {},
   "outputs": [
    {
     "name": "stdout",
     "output_type": "stream",
     "text": [
      "Trying:\n",
      "    a = BankAccount(10000) \n",
      "Expecting nothing\n",
      "ok\n",
      "Trying:\n",
      "    b = BankAccount(10000)  \n",
      "Expecting nothing\n",
      "ok\n",
      "Trying:\n",
      "    a.withdraw(5000)\n",
      "Expecting:\n",
      "    5000\n",
      "ok\n",
      "Trying:\n",
      "    timer = ClockTimer(22,54,12)\n",
      "Expecting nothing\n",
      "ok\n",
      "Trying:\n",
      "    timer.tick()\n",
      "Expecting nothing\n",
      "ok\n",
      "Trying:\n",
      "    cc = ConsoleClock(timer)\n",
      "Expecting nothing\n",
      "ok\n",
      "Trying:\n",
      "    timer.tick()\n",
      "Expecting:\n",
      "    22:54:14\n",
      "ok\n",
      "Trying:\n",
      "    timer.tick()\n",
      "Expecting:\n",
      "    22:54:15\n",
      "ok\n",
      "Trying:\n",
      "    timer.detach(cc)\n",
      "Expecting nothing\n",
      "ok\n",
      "Trying:\n",
      "    timer.tick()\n",
      "Expecting nothing\n",
      "ok\n",
      "Trying:\n",
      "    cc1 = ConsoleClock(timer)\n",
      "Expecting nothing\n",
      "ok\n",
      "Trying:\n",
      "    cc2 = ConsoleClock(timer)\n",
      "Expecting nothing\n",
      "ok\n",
      "Trying:\n",
      "    timer.tick()\n",
      "Expecting:\n",
      "    22:54:17\n",
      "    22:54:17\n",
      "ok\n",
      "Trying:\n",
      "    timer.tick()\n",
      "Expecting:\n",
      "    22:54:18\n",
      "    22:54:18\n",
      "ok\n",
      "Trying:\n",
      "    timer = ClockTimer(22,54,12)\n",
      "Expecting nothing\n",
      "ok\n",
      "Trying:\n",
      "    cd = CountDownClock(timer, 3)\n",
      "Expecting nothing\n",
      "ok\n",
      "Trying:\n",
      "    timer.tick()\n",
      "Expecting:\n",
      "    3\n",
      "ok\n",
      "Trying:\n",
      "    timer.tick()\n",
      "Expecting:\n",
      "    2\n",
      "ok\n",
      "Trying:\n",
      "    timer.tick()\n",
      "Expecting:\n",
      "    1\n",
      "ok\n",
      "Trying:\n",
      "    timer.tick()\n",
      "Expecting:\n",
      "    !!!\n",
      "ok\n",
      "23 items had no tests:\n",
      "    __main__\n",
      "    __main__.BankAccount\n",
      "    __main__.BankAccount.__init__\n",
      "    __main__.ClockTimer\n",
      "    __main__.ClockTimer.__init__\n",
      "    __main__.ClockTimer.tick\n",
      "    __main__.ConsoleClock.__init__\n",
      "    __main__.ConsoleClock.clock_to_string\n",
      "    __main__.ConsoleClock.update\n",
      "    __main__.CountDownClock.__init__\n",
      "    __main__.CountDownClock.clock_to_string\n",
      "    __main__.CountDownClock.update\n",
      "    __main__.Counter\n",
      "    __main__.Counter.__init__\n",
      "    __main__.Counter.count\n",
      "    __main__.Counter.increment\n",
      "    __main__.Observer\n",
      "    __main__.Observer.update\n",
      "    __main__.Subject\n",
      "    __main__.Subject.__init__\n",
      "    __main__.Subject.attach\n",
      "    __main__.Subject.detach\n",
      "    __main__.Subject.notify\n",
      "3 items passed all tests:\n",
      "   3 tests in __main__.BankAccount.withdraw\n",
      "  11 tests in __main__.ConsoleClock\n",
      "   6 tests in __main__.CountDownClock\n",
      "20 tests in 26 items.\n",
      "20 passed and 0 failed.\n",
      "Test passed.\n"
     ]
    },
    {
     "data": {
      "text/plain": [
       "TestResults(failed=0, attempted=20)"
      ]
     },
     "execution_count": 94,
     "metadata": {},
     "output_type": "execute_result"
    }
   ],
   "source": [
    "import doctest\n",
    "doctest.testmod(verbose = True)"
   ]
  },
  {
   "cell_type": "markdown",
   "metadata": {},
   "source": [
    "例題など"
   ]
  },
  {
   "cell_type": "code",
   "execution_count": 92,
   "metadata": {
    "scrolled": true
   },
   "outputs": [
    {
     "name": "stdout",
     "output_type": "stream",
     "text": [
      "Help on class BankAccount in module __main__:\n",
      "\n",
      "class BankAccount(builtins.object)\n",
      " |  BankAccount(initial_balance)\n",
      " |  \n",
      " |  Methods defined here:\n",
      " |  \n",
      " |  __init__(self, initial_balance)\n",
      " |      enter initial balanve to one's balance\n",
      " |  \n",
      " |  withdraw(self, amount)\n",
      " |      withdraw one's amount from their balance\n",
      " |      \n",
      " |      >>> a = BankAccount(10000) \n",
      " |      >>> b = BankAccount(10000)  \n",
      " |      >>> a.withdraw(5000)\n",
      " |      5000\n",
      " |  \n",
      " |  ----------------------------------------------------------------------\n",
      " |  Data descriptors defined here:\n",
      " |  \n",
      " |  __dict__\n",
      " |      dictionary for instance variables (if defined)\n",
      " |  \n",
      " |  __weakref__\n",
      " |      list of weak references to the object (if defined)\n",
      "\n"
     ]
    }
   ],
   "source": [
    "help(BankAccount)"
   ]
  },
  {
   "cell_type": "code",
   "execution_count": 6,
   "metadata": {},
   "outputs": [
    {
     "name": "stdout",
     "output_type": "stream",
     "text": [
      "Help on function withdraw in module __main__:\n",
      "\n",
      "withdraw(self, amount)\n",
      "    withdraw one's amount from their balance\n",
      "    \n",
      "    >>> a = BankAccount(10000) \n",
      "    >>> b = BankAccount(10000)  \n",
      "    >>> a.withdraw(5000)\n",
      "    5000\n",
      "\n"
     ]
    }
   ],
   "source": [
    "help(BankAccount.withdraw)"
   ]
  },
  {
   "cell_type": "code",
   "execution_count": 4,
   "metadata": {},
   "outputs": [
    {
     "name": "stdout",
     "output_type": "stream",
     "text": [
      "Help on function testmod in module doctest:\n",
      "\n",
      "testmod(m=None, name=None, globs=None, verbose=None, report=True, optionflags=0, extraglobs=None, raise_on_error=False, exclude_empty=False)\n",
      "    m=None, name=None, globs=None, verbose=None, report=True,\n",
      "       optionflags=0, extraglobs=None, raise_on_error=False,\n",
      "       exclude_empty=False\n",
      "    \n",
      "    Test examples in docstrings in functions and classes reachable\n",
      "    from module m (or the current module if m is not supplied), starting\n",
      "    with m.__doc__.\n",
      "    \n",
      "    Also test examples reachable from dict m.__test__ if it exists and is\n",
      "    not None.  m.__test__ maps names to functions, classes and strings;\n",
      "    function and class docstrings are tested even if the name is private;\n",
      "    strings are tested directly, as if they were docstrings.\n",
      "    \n",
      "    Return (#failures, #tests).\n",
      "    \n",
      "    See help(doctest) for an overview.\n",
      "    \n",
      "    Optional keyword arg \"name\" gives the name of the module; by default\n",
      "    use m.__name__.\n",
      "    \n",
      "    Optional keyword arg \"globs\" gives a dict to be used as the globals\n",
      "    when executing examples; by default, use m.__dict__.  A copy of this\n",
      "    dict is actually used for each docstring, so that each docstring's\n",
      "    examples start with a clean slate.\n",
      "    \n",
      "    Optional keyword arg \"extraglobs\" gives a dictionary that should be\n",
      "    merged into the globals that are used to execute examples.  By\n",
      "    default, no extra globals are used.  This is new in 2.4.\n",
      "    \n",
      "    Optional keyword arg \"verbose\" prints lots of stuff if true, prints\n",
      "    only failures if false; by default, it's true iff \"-v\" is in sys.argv.\n",
      "    \n",
      "    Optional keyword arg \"report\" prints a summary at the end when true,\n",
      "    else prints nothing at the end.  In verbose mode, the summary is\n",
      "    detailed, else very brief (in fact, empty if all tests passed).\n",
      "    \n",
      "    Optional keyword arg \"optionflags\" or's together module constants,\n",
      "    and defaults to 0.  This is new in 2.3.  Possible values (see the\n",
      "    docs for details):\n",
      "    \n",
      "        DONT_ACCEPT_TRUE_FOR_1\n",
      "        DONT_ACCEPT_BLANKLINE\n",
      "        NORMALIZE_WHITESPACE\n",
      "        ELLIPSIS\n",
      "        SKIP\n",
      "        IGNORE_EXCEPTION_DETAIL\n",
      "        REPORT_UDIFF\n",
      "        REPORT_CDIFF\n",
      "        REPORT_NDIFF\n",
      "        REPORT_ONLY_FIRST_FAILURE\n",
      "    \n",
      "    Optional keyword arg \"raise_on_error\" raises an exception on the\n",
      "    first unexpected exception or failure. This allows failures to be\n",
      "    post-mortem debugged.\n",
      "    \n",
      "    Advanced tomfoolery:  testmod runs methods of a local instance of\n",
      "    class doctest.Tester, then merges the results into (or creates)\n",
      "    global Tester instance doctest.master.  Methods of doctest.master\n",
      "    can be called directly too, if you want to do something unusual.\n",
      "    Passing report=0 to testmod is especially useful then, to delay\n",
      "    displaying a summary.  Invoke doctest.master.summarize(verbose)\n",
      "    when you're done fiddling.\n",
      "\n"
     ]
    }
   ],
   "source": [
    "help(doctest.testmod)"
   ]
  },
  {
   "cell_type": "code",
   "execution_count": 54,
   "metadata": {},
   "outputs": [],
   "source": [
    "import abc\n",
    "class Player(abc.ABC):\n",
    "    \"\"\"Player of repeated prisoners' dilemma game \"\"\"\n",
    "    \n",
    "    @abc.abstractmethod\n",
    "    def name(self):\n",
    "        \"\"\" Return name of the player\"\"\"\n",
    "        \n",
    "    @abc.abstractmethod\n",
    "    def play(self):\n",
    "        \"\"\"Play Cooperate or Defect\"\"\"\n",
    "        \n",
    "    \n",
    "    def update(self, my_action,op_action):\n",
    "        pass\n",
    "    "
   ]
  },
  {
   "cell_type": "code",
   "execution_count": 14,
   "metadata": {},
   "outputs": [
    {
     "ename": "NameError",
     "evalue": "name 'Player' is not defined",
     "output_type": "error",
     "traceback": [
      "\u001b[0;31m---------------------------------------------------------------------------\u001b[0m",
      "\u001b[0;31mNameError\u001b[0m                                 Traceback (most recent call last)",
      "\u001b[0;32m<ipython-input-14-c1091ed07708>\u001b[0m in \u001b[0;36m<module>\u001b[0;34m\u001b[0m\n\u001b[0;32m----> 1\u001b[0;31m \u001b[0;32mclass\u001b[0m \u001b[0mCooperatePlayer\u001b[0m\u001b[0;34m(\u001b[0m\u001b[0mPlayer\u001b[0m\u001b[0;34m)\u001b[0m\u001b[0;34m:\u001b[0m\u001b[0;34m\u001b[0m\u001b[0;34m\u001b[0m\u001b[0m\n\u001b[0m\u001b[1;32m      2\u001b[0m     \u001b[0;32mdef\u001b[0m \u001b[0m__init__\u001b[0m\u001b[0;34m(\u001b[0m\u001b[0mself\u001b[0m\u001b[0;34m)\u001b[0m\u001b[0;34m:\u001b[0m\u001b[0;34m\u001b[0m\u001b[0;34m\u001b[0m\u001b[0m\n\u001b[1;32m      3\u001b[0m         \u001b[0msuper\u001b[0m\u001b[0;34m(\u001b[0m\u001b[0;34m)\u001b[0m\u001b[0;34m.\u001b[0m\u001b[0m__init__\u001b[0m\u001b[0;34m(\u001b[0m\u001b[0;34m)\u001b[0m\u001b[0;34m\u001b[0m\u001b[0;34m\u001b[0m\u001b[0m\n\u001b[1;32m      4\u001b[0m     \u001b[0;32mdef\u001b[0m \u001b[0mname\u001b[0m\u001b[0;34m(\u001b[0m\u001b[0mself\u001b[0m\u001b[0;34m)\u001b[0m\u001b[0;34m:\u001b[0m\u001b[0;34m\u001b[0m\u001b[0;34m\u001b[0m\u001b[0m\n\u001b[1;32m      5\u001b[0m         \u001b[0;32mreturn\u001b[0m \u001b[0;34m\"CooperatePlayer\"\u001b[0m\u001b[0;34m\u001b[0m\u001b[0;34m\u001b[0m\u001b[0m\n",
      "\u001b[0;31mNameError\u001b[0m: name 'Player' is not defined"
     ]
    }
   ],
   "source": [
    "class CooperatePlayer(Player):\n",
    "    def __init__(self):\n",
    "        super().__init__()\n",
    "    def name(self):\n",
    "        return \"CooperatePlayer\"\n",
    "    def play(self):\n",
    "        return Cooperate"
   ]
  },
  {
   "cell_type": "code",
   "execution_count": 15,
   "metadata": {},
   "outputs": [],
   "source": [
    "Cooperate = 0\n",
    "Defect = 1\n",
    "def valid_action(act):\n",
    "    return act == Cooperate or act == Defect \n",
    "Reward = [\n",
    "    [ 2, 0 ], # 自分が協調した \n",
    "    [ 3, 1 ], # 自分が裏切った\n",
    "]"
   ]
  },
  {
   "cell_type": "code",
   "execution_count": 16,
   "metadata": {},
   "outputs": [],
   "source": [
    "import random\n",
    "class CooperatePlayer:\n",
    "    def name(self):\n",
    "        return \"CooperatePlayer\"\n",
    "    def play(self): \n",
    "        return Cooperate\n",
    "    \n",
    "class DefectPlayer:\n",
    "    def name(self):\n",
    "        return \"DefectPlayer\"\n",
    "    def play(self): \n",
    "        return Defect\n",
    "\n",
    "class RandomPlayer:\n",
    "    def name(self):\n",
    "        return \"RandomPlayer\"\n",
    "    def play(self):\n",
    "        return Cooperate if (random.randrange(2) == 0) else Defect"
   ]
  },
  {
   "cell_type": "code",
   "execution_count": null,
   "metadata": {},
   "outputs": [],
   "source": [
    "def\n",
    "play_one_game(player_a, player_b):\n",
    "act_a = player_a.play()\n",
    "act_b = player_b.play()\n",
    "if not valid_action(act_a): # 行動がルールに従っているかを確認\n",
    "raise ValueError\n",
    "if not valid_action(act_b): # 行動がルールに従っているかを確認\n",
    "raise ValueError\n",
    "reward_a = Reward[act_a][act_b]\n",
    "reward_b = Reward[act_b][act_a] \n",
    "print(player_a.name(), \" v.s. \", player_b.name()) # 結果を表示\n",
    "print(\" actions: \", act_a, act_b)\n",
    "print(\" rewards: \", reward_a, reward_b)\n",
    "return act_a, reward_a, act_b, reward_b"
   ]
  },
  {
   "cell_type": "code",
   "execution_count": 17,
   "metadata": {},
   "outputs": [
    {
     "ename": "IndentationError",
     "evalue": "expected an indented block (<ipython-input-17-d6d1e30da180>, line 7)",
     "output_type": "error",
     "traceback": [
      "\u001b[0;36m  File \u001b[0;32m\"<ipython-input-17-d6d1e30da180>\"\u001b[0;36m, line \u001b[0;32m7\u001b[0m\n\u001b[0;31m    @abc.abstructmethod\u001b[0m\n\u001b[0m    ^\u001b[0m\n\u001b[0;31mIndentationError\u001b[0m\u001b[0;31m:\u001b[0m expected an indented block\n"
     ]
    }
   ],
   "source": [
    "import abc\n",
    "class Player(abc.ABC):\n",
    "    \n",
    "    @abc.abstractmethod\n",
    "    def name(self):\n",
    "        \n",
    "    @abc.abstructmethod\n",
    "    def play(self):\n",
    "        \n",
    "    \n",
    "    def update(self, my_action,op_action):\n",
    "        pass\n",
    "    "
   ]
  },
  {
   "cell_type": "code",
   "execution_count": 18,
   "metadata": {},
   "outputs": [],
   "source": [
    "Cooperate = 0\n",
    "Defect = 1\n",
    "def valid_action(act):\n",
    "    return act == Cooperate or act == Defect \n",
    "Reward = [\n",
    "    [ 2, 0 ], # 自分が協調した \n",
    "    [ 3, 1 ], # 自分が裏切った\n",
    "]"
   ]
  },
  {
   "cell_type": "code",
   "execution_count": 31,
   "metadata": {},
   "outputs": [],
   "source": [
    "import abc\n",
    "class Observer(abc.ABC):\n",
    "    \"\"\"abstract observer class\"\"\"\n",
    "    @abc.abstractmethod\n",
    "    def update(self):\n",
    "        \"\"\"update status\"\"\"\n",
    "        pass\n",
    "    \n",
    "class Subject:\n",
    "    \"\"\"abstract subject class\"\"\"\n",
    "    def __init__(self):\n",
    "        self.observers = []\n",
    "    def attach(self, an_observer):\n",
    "        \"\"\"add observer to the lost\"\"\"\n",
    "        self.observers.append(an_observer)\n",
    "    def detach(self, an_observer):\n",
    "        \"\"\"remove observer from the list\"\"\"\n",
    "        self.observers.remove(an_observer)\n",
    "    def notify(self):\n",
    "        \"\"\"call update() for all observers\"\"\"\n",
    "        for o in self.observers:\n",
    "            o.update()\n",
    "        \n",
    "        \n",
    "        \n",
    "        \n",
    "        \n",
    "        \n",
    "        "
   ]
  },
  {
   "cell_type": "code",
   "execution_count": 32,
   "metadata": {},
   "outputs": [],
   "source": [
    "class ClockTimer(Subject):\n",
    "    \"\"\"a class manages time (self.hour, self.minute, and self.second)\"\"\"\n",
    "    def __init__(self,hour,minute,second):\n",
    "        super().__init__()\n",
    "        self.counter = 0\n",
    "        self.hour = hour\n",
    "        self.mimute = minute\n",
    "        self.second = second\n",
    "        self.counter = 3600*hour + 60*minute + second\n",
    "        \n",
    "    def tick(self):\n",
    "        self.counter = self.counter + 1\n",
    "        self.hour = self.counter//3600\n",
    "        self.minute = (self.counter - self.hour*3600)//60\n",
    "        self.second = self.counter - self.hour*3600 - self.minute*60\n",
    "        self.notify()\n",
    "\n",
    "class Counter:\n",
    "    def __init__(self):\n",
    "        self.__counter = 0\n",
    "    def increment(self):\n",
    "        self.__counter += 1\n",
    "        return self.__counter\n",
    "    def count(self):\n",
    "        return self.__counter"
   ]
  },
  {
   "cell_type": "code",
   "execution_count": 33,
   "metadata": {},
   "outputs": [],
   "source": [
    "class ConsoleClock(Observer):\n",
    "    \"\"\"display time in console\n",
    "    \n",
    "    >>> cc1 = ConsoleClock(timer)\n",
    "    \n",
    "    >>> cc2 = ConsoleClock(timer)\n",
    "    \n",
    "    \"\"\"\n",
    "    \n",
    "    def __init__(self,subject):\n",
    "        \"\"\"create ConsoleClock and attach to subject\"\"\"\n",
    "        super().__init__()\n",
    "        self.subject = subject\n",
    "        self.subject.attach(self)\n",
    "        ##ここのselfってなに？\n",
    "        \n",
    "    def clock_to_string(self, clock):\n",
    "        return \"{:02d}:{:02d}:{:02d}\".format(clock.hour, clock.minute, clock.second)\n",
    "    \n",
    "    def update(self):\n",
    "        print(self.clock_to_string(self.subject))\n",
    "    \n",
    "    \n",
    "    "
   ]
  },
  {
   "cell_type": "code",
   "execution_count": 34,
   "metadata": {},
   "outputs": [],
   "source": [
    "timer = ClockTimer(22,54,12)\n",
    "timer.tick()"
   ]
  },
  {
   "cell_type": "code",
   "execution_count": 35,
   "metadata": {},
   "outputs": [
    {
     "name": "stdout",
     "output_type": "stream",
     "text": [
      "22:54:14\n"
     ]
    }
   ],
   "source": [
    "cc = ConsoleClock(timer)\n",
    "timer.tick()"
   ]
  },
  {
   "cell_type": "code",
   "execution_count": 36,
   "metadata": {},
   "outputs": [
    {
     "name": "stdout",
     "output_type": "stream",
     "text": [
      "22:54:15\n"
     ]
    }
   ],
   "source": [
    "timer.tick()"
   ]
  },
  {
   "cell_type": "code",
   "execution_count": 37,
   "metadata": {},
   "outputs": [],
   "source": [
    "timer.detach(cc)\n",
    "timer.tick()"
   ]
  },
  {
   "cell_type": "code",
   "execution_count": 38,
   "metadata": {},
   "outputs": [],
   "source": [
    "cc1 = ConsoleClock(timer)\n",
    "cc2 = ConsoleClock(timer)"
   ]
  },
  {
   "cell_type": "code",
   "execution_count": 39,
   "metadata": {},
   "outputs": [
    {
     "name": "stdout",
     "output_type": "stream",
     "text": [
      "22:54:17\n",
      "22:54:17\n"
     ]
    }
   ],
   "source": [
    "timer.tick()"
   ]
  },
  {
   "cell_type": "code",
   "execution_count": 40,
   "metadata": {},
   "outputs": [
    {
     "name": "stdout",
     "output_type": "stream",
     "text": [
      "22:54:18\n",
      "22:54:18\n"
     ]
    }
   ],
   "source": [
    "timer.tick()"
   ]
  },
  {
   "cell_type": "code",
   "execution_count": 42,
   "metadata": {},
   "outputs": [],
   "source": [
    "class CountDownClock(Observer):\n",
    "    def __init__(self,subject,sec):\n",
    "        super().__init__()\n",
    "        self.subject = subject\n",
    "        self.second = subject.second\n",
    "        self.remain = sec\n",
    "        self.subject.attach(self)\n",
    "        \n",
    "    def clock_to_string(self,clock):\n",
    "        s = clock.second - self.second\n",
    "        count = self.remain - s + 1\n",
    "        if count == 0:\n",
    "            return \"!!!\"\n",
    "        return count\n",
    "    \n",
    "    def update(self):\n",
    "        print(self,clock_to_string(self.subject))\n",
    "    "
   ]
  },
  {
   "cell_type": "code",
   "execution_count": null,
   "metadata": {},
   "outputs": [],
   "source": []
  },
  {
   "cell_type": "code",
   "execution_count": null,
   "metadata": {},
   "outputs": [],
   "source": []
  },
  {
   "cell_type": "code",
   "execution_count": null,
   "metadata": {},
   "outputs": [],
   "source": []
  },
  {
   "cell_type": "markdown",
   "metadata": {},
   "source": [
    "---ここまでが新しい作業"
   ]
  },
  {
   "cell_type": "code",
   "execution_count": 49,
   "metadata": {},
   "outputs": [
    {
     "ename": "NameError",
     "evalue": "name 'Subject' is not defined",
     "output_type": "error",
     "traceback": [
      "\u001b[0;31m---------------------------------------------------------------------------\u001b[0m",
      "\u001b[0;31mNameError\u001b[0m                                 Traceback (most recent call last)",
      "\u001b[0;32m<ipython-input-49-7166777fe254>\u001b[0m in \u001b[0;36m<module>\u001b[0;34m\u001b[0m\n\u001b[0;32m----> 1\u001b[0;31m \u001b[0;32mclass\u001b[0m \u001b[0mClockTimer\u001b[0m\u001b[0;34m(\u001b[0m\u001b[0mSubject\u001b[0m\u001b[0;34m)\u001b[0m\u001b[0;34m:\u001b[0m\u001b[0;34m\u001b[0m\u001b[0;34m\u001b[0m\u001b[0m\n\u001b[0m\u001b[1;32m      2\u001b[0m     \u001b[0;32mdef\u001b[0m \u001b[0m__init__\u001b[0m\u001b[0;34m(\u001b[0m\u001b[0mself\u001b[0m\u001b[0;34m,\u001b[0m\u001b[0mh\u001b[0m\u001b[0;34m,\u001b[0m\u001b[0mm\u001b[0m\u001b[0;34m,\u001b[0m\u001b[0ms\u001b[0m\u001b[0;34m)\u001b[0m\u001b[0;34m:\u001b[0m\u001b[0;34m\u001b[0m\u001b[0;34m\u001b[0m\u001b[0m\n\u001b[1;32m      3\u001b[0m         \u001b[0msuper\u001b[0m\u001b[0;34m(\u001b[0m\u001b[0;34m)\u001b[0m\u001b[0;34m.\u001b[0m\u001b[0m__init__\u001b[0m\u001b[0;34m(\u001b[0m\u001b[0;34m)\u001b[0m\u001b[0;34m\u001b[0m\u001b[0;34m\u001b[0m\u001b[0m\n\u001b[1;32m      4\u001b[0m \u001b[0;34m\u001b[0m\u001b[0m\n\u001b[1;32m      5\u001b[0m     \u001b[0;32mdef\u001b[0m \u001b[0mtick\u001b[0m\u001b[0;34m(\u001b[0m\u001b[0mself\u001b[0m\u001b[0;34m)\u001b[0m\u001b[0;34m:\u001b[0m\u001b[0;34m\u001b[0m\u001b[0;34m\u001b[0m\u001b[0m\n",
      "\u001b[0;31mNameError\u001b[0m: name 'Subject' is not defined"
     ]
    }
   ],
   "source": [
    "class ClockTimer(Subject):\n",
    "    def __init__(self,h,m,s):\n",
    "        super().__init__()\n",
    "    \n",
    "    def tick(self):\n",
    "        self.notify()"
   ]
  },
  {
   "cell_type": "code",
   "execution_count": 20,
   "metadata": {},
   "outputs": [
    {
     "ename": "SyntaxError",
     "evalue": "invalid syntax (<ipython-input-20-e8606ee08b90>, line 2)",
     "output_type": "error",
     "traceback": [
      "\u001b[0;36m  File \u001b[0;32m\"<ipython-input-20-e8606ee08b90>\"\u001b[0;36m, line \u001b[0;32m2\u001b[0m\n\u001b[0;31m    deef __init__(self, subject):\u001b[0m\n\u001b[0m                ^\u001b[0m\n\u001b[0;31mSyntaxError\u001b[0m\u001b[0;31m:\u001b[0m invalid syntax\n"
     ]
    }
   ],
   "source": [
    "class ConsoleClock(Observer):\n",
    "    deef __init__(self, subject):\n",
    "        super().__init__()\n",
    "        self.subject = subject\n",
    "        self.subject.attach(self)\n",
    "        \n",
    "        \n",
    "        def clock_to_string(self, clock):\n",
    "            return \"{:02d}:{:02d}:{:02d}\".format(clock.hour, clock.minute, clock.second)\n",
    "        \n",
    "        def update(self):\n",
    "            print(self.clock_to_string(self.subject))"
   ]
  },
  {
   "cell_type": "code",
   "execution_count": 21,
   "metadata": {},
   "outputs": [
    {
     "ename": "NameError",
     "evalue": "name 'clockTimer' is not defined",
     "output_type": "error",
     "traceback": [
      "\u001b[0;31m---------------------------------------------------------------------------\u001b[0m",
      "\u001b[0;31mNameError\u001b[0m                                 Traceback (most recent call last)",
      "\u001b[0;32m<ipython-input-21-f7bea108882e>\u001b[0m in \u001b[0;36m<module>\u001b[0;34m\u001b[0m\n\u001b[0;32m----> 1\u001b[0;31m \u001b[0mtimer\u001b[0m \u001b[0;34m=\u001b[0m \u001b[0mclockTimer\u001b[0m\u001b[0;34m(\u001b[0m\u001b[0;36m22\u001b[0m\u001b[0;34m,\u001b[0m\u001b[0;36m54\u001b[0m\u001b[0;34m,\u001b[0m\u001b[0;36m12\u001b[0m\u001b[0;34m)\u001b[0m\u001b[0;34m\u001b[0m\u001b[0;34m\u001b[0m\u001b[0m\n\u001b[0m\u001b[1;32m      2\u001b[0m \u001b[0mtimer\u001b[0m\u001b[0;34m.\u001b[0m\u001b[0mtick\u001b[0m\u001b[0;34m(\u001b[0m\u001b[0;34m)\u001b[0m\u001b[0;34m\u001b[0m\u001b[0;34m\u001b[0m\u001b[0m\n",
      "\u001b[0;31mNameError\u001b[0m: name 'clockTimer' is not defined"
     ]
    }
   ],
   "source": [
    "timer = clockTimer(22,54,12)\n",
    "timer.tick()"
   ]
  },
  {
   "cell_type": "code",
   "execution_count": null,
   "metadata": {},
   "outputs": [],
   "source": [
    "第7回の課題"
   ]
  },
  {
   "cell_type": "code",
   "execution_count": 37,
   "metadata": {},
   "outputs": [],
   "source": [
    "class ClockTimer:\n",
    "    def __init__(self,hour,minute,second):\n",
    "        self.counter = 0\n",
    "        self.hour = hour\n",
    "        self.minute = minute\n",
    "        self.second = second\n",
    "        self.counter = 3600*hour + 60*minute + second\n",
    "    \n",
    "    def tick(self):\n",
    "        self.counter = self.counter + 1\n",
    "        self.hour = self.counter//3600\n",
    "        self.minute = (self.counter - self.hour*3600)//60\n",
    "        self.second = self.counter - self.hour*3600 - self.minute*60\n",
    "    "
   ]
  },
  {
   "cell_type": "code",
   "execution_count": 48,
   "metadata": {},
   "outputs": [
    {
     "data": {
      "text/plain": [
       "0"
      ]
     },
     "execution_count": 48,
     "metadata": {},
     "output_type": "execute_result"
    }
   ],
   "source": [
    "timer = ClockTimer(22,54,14)\n",
    "timer.hour\n",
    "timer.minute\n",
    "timer.second\n",
    "timer.tick()\n",
    "timer.hour\n",
    "timer.minute\n",
    "timer.second\n",
    "for _ in range(45):\n",
    "    timer.tick()\n",
    "timer.hour\n",
    "timer.minute\n",
    "timer.second"
   ]
  },
  {
   "cell_type": "code",
   "execution_count": null,
   "metadata": {},
   "outputs": [],
   "source": []
  },
  {
   "cell_type": "code",
   "execution_count": null,
   "metadata": {},
   "outputs": [],
   "source": []
  },
  {
   "cell_type": "code",
   "execution_count": null,
   "metadata": {},
   "outputs": [],
   "source": []
  },
  {
   "cell_type": "code",
   "execution_count": null,
   "metadata": {},
   "outputs": [],
   "source": []
  },
  {
   "cell_type": "code",
   "execution_count": null,
   "metadata": {},
   "outputs": [],
   "source": []
  },
  {
   "cell_type": "code",
   "execution_count": null,
   "metadata": {},
   "outputs": [],
   "source": []
  },
  {
   "cell_type": "code",
   "execution_count": null,
   "metadata": {},
   "outputs": [],
   "source": []
  },
  {
   "cell_type": "code",
   "execution_count": null,
   "metadata": {},
   "outputs": [],
   "source": []
  },
  {
   "cell_type": "code",
   "execution_count": null,
   "metadata": {},
   "outputs": [],
   "source": []
  },
  {
   "cell_type": "markdown",
   "metadata": {},
   "source": [
    "## 課題2\n",
    "コメントコメントコメント\n",
    "\n",
    "感想感想感想"
   ]
  },
  {
   "cell_type": "code",
   "execution_count": 2,
   "metadata": {
    "collapsed": true
   },
   "outputs": [],
   "source": [
    "def kadai2(x, y):\n",
    "    return x+y"
   ]
  },
  {
   "cell_type": "markdown",
   "metadata": {},
   "source": [
    "## テストコード"
   ]
  },
  {
   "cell_type": "code",
   "execution_count": 3,
   "metadata": {},
   "outputs": [
    {
     "name": "stderr",
     "output_type": "stream",
     "text": [
      "..\n",
      "----------------------------------------------------------------------\n",
      "Ran 2 tests in 0.003s\n",
      "\n",
      "OK\n"
     ]
    }
   ],
   "source": [
    "import unittest\n",
    "\n",
    "class TestKadai(unittest.TestCase):\n",
    "    \n",
    "    def test_kadai1(self):\n",
    "        self.assertEqual(2, kadai1(1))\n",
    "        \n",
    "    def test_kadai2(self):\n",
    "        self.assertEqual(3, kadai2(1,2))\n",
    "\n",
    "if __name__ == '__main__':\n",
    "    unittest.main(argv=['first-arg-is-ignored'], exit=False)"
   ]
  }
 ],
 "metadata": {
  "kernelspec": {
   "display_name": "Python 3",
   "language": "python",
   "name": "python3"
  },
  "language_info": {
   "codemirror_mode": {
    "name": "ipython",
    "version": 3
   },
   "file_extension": ".py",
   "mimetype": "text/x-python",
   "name": "python",
   "nbconvert_exporter": "python",
   "pygments_lexer": "ipython3",
   "version": "3.7.3"
  }
 },
 "nbformat": 4,
 "nbformat_minor": 2
}
