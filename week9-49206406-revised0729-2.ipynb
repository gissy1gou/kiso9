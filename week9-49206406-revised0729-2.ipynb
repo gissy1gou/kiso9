{
 "cells": [
  {
   "cell_type": "markdown",
   "metadata": {},
   "source": [
    "# 第9回課題"
   ]
  },
  {
   "cell_type": "markdown",
   "metadata": {},
   "source": [
    "## 課題1 Base64\n",
    ".standard_b64decode(b)で出るかなと思ったから、やってみたらutf-8の形で出た。なのでdecode('utf-8')を付け加えた。なぜこうなったのかはわからない。"
   ]
  },
  {
   "cell_type": "code",
   "execution_count": 36,
   "metadata": {},
   "outputs": [],
   "source": [
    "import base64\n",
    "def myencode(s):\n",
    "    b = s.encode('utf-8')\n",
    "    return base64.standard_b64encode(b)"
   ]
  },
  {
   "cell_type": "code",
   "execution_count": 44,
   "metadata": {},
   "outputs": [],
   "source": [
    "import base64\n",
    "def mydecode(b):\n",
    "    #s =  base64.b64decode(b, altchars=None, validate=False).decode('utf-8')\n",
    "    s = base64.standard_b64decode(b).decode('utf-8')\n",
    "    return s\n",
    "    "
   ]
  },
  {
   "cell_type": "markdown",
   "metadata": {},
   "source": [
    "# 課題２\n",
    "sinのグラフを表すためにどういう風にしようかで迷った。math.sin(p)という機能があったので使った。3140でなく3.14としようとしたがうまくいかなかったので結局戻した。"
   ]
  },
  {
   "cell_type": "code",
   "execution_count": 55,
   "metadata": {},
   "outputs": [],
   "source": [
    "def write_to_file2d(filename, x, y):\n",
    "    with open(filename, \"w\") as file:\n",
    "        for i in range(len(x)):\n",
    "            file.write(\"{} {}\\n\".format(x[i],y[i]))"
   ]
  },
  {
   "cell_type": "code",
   "execution_count": 56,
   "metadata": {},
   "outputs": [],
   "source": [
    "import math\n",
    "\n",
    "x=[]\n",
    "y=[]\n",
    "\n",
    "for i in range(3140):\n",
    "    p = i/100\n",
    "    q = math.sin(p)\n",
    "    x.append(p)\n",
    "    y.append(q)"
   ]
  },
  {
   "cell_type": "code",
   "execution_count": 58,
   "metadata": {},
   "outputs": [],
   "source": [
    "write_to_file2d(\"sin.txt\",x,y)"
   ]
  },
  {
   "cell_type": "markdown",
   "metadata": {},
   "source": [
    "# 課題３ write_tree read_tree\n",
    "上で習ったことを組み合わせたらできた"
   ]
  },
  {
   "cell_type": "code",
   "execution_count": 83,
   "metadata": {},
   "outputs": [
    {
     "name": "stdout",
     "output_type": "stream",
     "text": [
      "1\n",
      "{'number': 3, 'left': None, 'right': None}\n",
      "{'number': 5, 'left': None, 'right': None}\n"
     ]
    }
   ],
   "source": [
    "import json\n",
    "\n",
    "def make_node(num,left,right):\n",
    "    return {\"number\":num, \"left\":left, \"right\":right}\n",
    "\n",
    "def value(tree):\n",
    "    return tree[\"number\"]\n",
    "\n",
    "def left(tree):\n",
    "    return tree[\"left\"]\n",
    "\n",
    "def right(tree):\n",
    "    return tree[\"right\"]\n",
    "\n",
    "EmptyTree=None\n",
    "def is_empty(tree):\n",
    "    return tree==EmptyTree\n",
    "\n",
    "def write_tree(filename, tree):\n",
    "    t = json.dumps(tree)\n",
    "    with open(filename, \"w\") as file:\n",
    "        file.write(t)\n",
    "        \n",
    "def read_tree(filename):\n",
    "    with open(filename, \"r\") as file:\n",
    "        for line in file:\n",
    "            line = line.strip()\n",
    "        t = json.loads(line)\n",
    "    return t\n",
    "\n",
    "tree = make_node(1, make_node(3,EmptyTree, EmptyTree), make_node(5, EmptyTree, EmptyTree))\n",
    "write_tree(\"tree.txt\", tree)\n",
    "tree2=read_tree(\"tree.txt\")\n",
    "print(value(tree2))\n",
    "print(left(tree2))\n",
    "print(right(tree2))\n",
    "        "
   ]
  },
  {
   "cell_type": "code",
   "execution_count": null,
   "metadata": {},
   "outputs": [],
   "source": []
  },
  {
   "cell_type": "markdown",
   "metadata": {},
   "source": [
    "---- 例題など"
   ]
  },
  {
   "cell_type": "code",
   "execution_count": 1,
   "metadata": {},
   "outputs": [
    {
     "data": {
      "text/plain": [
       "b'\\xe3\\x83\\x97\\xe3\\x83\\xad\\xe3\\x82\\xb0\\xe3\\x83\\xa9\\xe3\\x83\\x9f\\xe3\\x83\\xb3\\xe3\\x82\\xb0'"
      ]
     },
     "execution_count": 1,
     "metadata": {},
     "output_type": "execute_result"
    }
   ],
   "source": [
    "\"プログラミング\".encode('utf-8')"
   ]
  },
  {
   "cell_type": "code",
   "execution_count": 2,
   "metadata": {},
   "outputs": [
    {
     "data": {
      "text/plain": [
       "b'\\xa5\\xd7\\xa5\\xed\\xa5\\xb0\\xa5\\xe9\\xa5\\xdf\\xa5\\xf3\\xa5\\xb0'"
      ]
     },
     "execution_count": 2,
     "metadata": {},
     "output_type": "execute_result"
    }
   ],
   "source": [
    "\"プログラミング\".encode('euc-jp')"
   ]
  },
  {
   "cell_type": "code",
   "execution_count": 3,
   "metadata": {},
   "outputs": [],
   "source": [
    "b = \"プログラミング\".encode('utf-8')"
   ]
  },
  {
   "cell_type": "code",
   "execution_count": 4,
   "metadata": {},
   "outputs": [
    {
     "data": {
      "text/plain": [
       "'プログラミング'"
      ]
     },
     "execution_count": 4,
     "metadata": {},
     "output_type": "execute_result"
    }
   ],
   "source": [
    "b.decode('utf-8')"
   ]
  },
  {
   "cell_type": "code",
   "execution_count": null,
   "metadata": {
    "collapsed": true
   },
   "outputs": [],
   "source": [
    "base64.standard b64encode(b)"
   ]
  },
  {
   "cell_type": "code",
   "execution_count": null,
   "metadata": {},
   "outputs": [],
   "source": []
  },
  {
   "cell_type": "code",
   "execution_count": 36,
   "metadata": {},
   "outputs": [],
   "source": [
    "import base64\n",
    "def myencode(s):\n",
    "    b = s.encode('utf-8')\n",
    "    return base64.standard_b64encode(b)"
   ]
  },
  {
   "cell_type": "code",
   "execution_count": null,
   "metadata": {},
   "outputs": [],
   "source": [
    "##.standard_b64decode(b)で出るかなと思ったから、やってみたらutf-8の形で出た。なのでdecode('utf-8')を付け加えた。なぜこうなったのかはわからない。"
   ]
  },
  {
   "cell_type": "code",
   "execution_count": 44,
   "metadata": {},
   "outputs": [],
   "source": [
    "import base64\n",
    "def mydecode(b):\n",
    "    #s =  base64.b64decode(b, altchars=None, validate=False).decode('utf-8')\n",
    "    s = base64.standard_b64decode(b).decode('utf-8')\n",
    "    return s\n",
    "    "
   ]
  },
  {
   "cell_type": "code",
   "execution_count": 45,
   "metadata": {},
   "outputs": [
    {
     "data": {
      "text/plain": [
       "b'44OX44Ot44Kw44Op44Of44Oz44Kw'"
      ]
     },
     "execution_count": 45,
     "metadata": {},
     "output_type": "execute_result"
    }
   ],
   "source": [
    "myencode(\"プログラミング\")"
   ]
  },
  {
   "cell_type": "code",
   "execution_count": 46,
   "metadata": {},
   "outputs": [
    {
     "data": {
      "text/plain": [
       "'プログラミング'"
      ]
     },
     "execution_count": 46,
     "metadata": {},
     "output_type": "execute_result"
    }
   ],
   "source": [
    "mydecode('44OX44Ot44Kw44Op44Of44Oz44Kw')"
   ]
  },
  {
   "cell_type": "code",
   "execution_count": 33,
   "metadata": {},
   "outputs": [],
   "source": [
    "import base64\n",
    "def mydecode(b):\n",
    "    s =  base64.b64decode(b, altchars=None, validate=False).decode('utf-8')\n",
    "    return s"
   ]
  },
  {
   "cell_type": "code",
   "execution_count": null,
   "metadata": {},
   "outputs": [],
   "source": [
    "   standard_b64decode(s)"
   ]
  },
  {
   "cell_type": "code",
   "execution_count": null,
   "metadata": {},
   "outputs": [],
   "source": []
  },
  {
   "cell_type": "code",
   "execution_count": 40,
   "metadata": {},
   "outputs": [
    {
     "name": "stdout",
     "output_type": "stream",
     "text": [
      "Help on bytes object:\n",
      "\n",
      "class bytes(object)\n",
      " |  bytes(iterable_of_ints) -> bytes\n",
      " |  bytes(string, encoding[, errors]) -> bytes\n",
      " |  bytes(bytes_or_buffer) -> immutable copy of bytes_or_buffer\n",
      " |  bytes(int) -> bytes object of size given by the parameter initialized with null bytes\n",
      " |  bytes() -> empty bytes object\n",
      " |  \n",
      " |  Construct an immutable array of bytes from:\n",
      " |    - an iterable yielding integers in range(256)\n",
      " |    - a text string encoded using the specified encoding\n",
      " |    - any object implementing the buffer API.\n",
      " |    - an integer\n",
      " |  \n",
      " |  Methods defined here:\n",
      " |  \n",
      " |  __add__(self, value, /)\n",
      " |      Return self+value.\n",
      " |  \n",
      " |  __contains__(self, key, /)\n",
      " |      Return key in self.\n",
      " |  \n",
      " |  __eq__(self, value, /)\n",
      " |      Return self==value.\n",
      " |  \n",
      " |  __ge__(self, value, /)\n",
      " |      Return self>=value.\n",
      " |  \n",
      " |  __getattribute__(self, name, /)\n",
      " |      Return getattr(self, name).\n",
      " |  \n",
      " |  __getitem__(self, key, /)\n",
      " |      Return self[key].\n",
      " |  \n",
      " |  __getnewargs__(...)\n",
      " |  \n",
      " |  __gt__(self, value, /)\n",
      " |      Return self>value.\n",
      " |  \n",
      " |  __hash__(self, /)\n",
      " |      Return hash(self).\n",
      " |  \n",
      " |  __iter__(self, /)\n",
      " |      Implement iter(self).\n",
      " |  \n",
      " |  __le__(self, value, /)\n",
      " |      Return self<=value.\n",
      " |  \n",
      " |  __len__(self, /)\n",
      " |      Return len(self).\n",
      " |  \n",
      " |  __lt__(self, value, /)\n",
      " |      Return self<value.\n",
      " |  \n",
      " |  __mod__(self, value, /)\n",
      " |      Return self%value.\n",
      " |  \n",
      " |  __mul__(self, value, /)\n",
      " |      Return self*value.\n",
      " |  \n",
      " |  __ne__(self, value, /)\n",
      " |      Return self!=value.\n",
      " |  \n",
      " |  __repr__(self, /)\n",
      " |      Return repr(self).\n",
      " |  \n",
      " |  __rmod__(self, value, /)\n",
      " |      Return value%self.\n",
      " |  \n",
      " |  __rmul__(self, value, /)\n",
      " |      Return value*self.\n",
      " |  \n",
      " |  __str__(self, /)\n",
      " |      Return str(self).\n",
      " |  \n",
      " |  capitalize(...)\n",
      " |      B.capitalize() -> copy of B\n",
      " |      \n",
      " |      Return a copy of B with only its first character capitalized (ASCII)\n",
      " |      and the rest lower-cased.\n",
      " |  \n",
      " |  center(...)\n",
      " |      B.center(width[, fillchar]) -> copy of B\n",
      " |      \n",
      " |      Return B centered in a string of length width.  Padding is\n",
      " |      done using the specified fill character (default is a space).\n",
      " |  \n",
      " |  count(...)\n",
      " |      B.count(sub[, start[, end]]) -> int\n",
      " |      \n",
      " |      Return the number of non-overlapping occurrences of subsection sub in\n",
      " |      bytes B[start:end].  Optional arguments start and end are interpreted\n",
      " |      as in slice notation.\n",
      " |  \n",
      " |  decode(self, /, encoding='utf-8', errors='strict')\n",
      " |      Decode the bytes using the codec registered for encoding.\n",
      " |      \n",
      " |      encoding\n",
      " |        The encoding with which to decode the bytes.\n",
      " |      errors\n",
      " |        The error handling scheme to use for the handling of decoding errors.\n",
      " |        The default is 'strict' meaning that decoding errors raise a\n",
      " |        UnicodeDecodeError. Other possible values are 'ignore' and 'replace'\n",
      " |        as well as any other name registered with codecs.register_error that\n",
      " |        can handle UnicodeDecodeErrors.\n",
      " |  \n",
      " |  endswith(...)\n",
      " |      B.endswith(suffix[, start[, end]]) -> bool\n",
      " |      \n",
      " |      Return True if B ends with the specified suffix, False otherwise.\n",
      " |      With optional start, test B beginning at that position.\n",
      " |      With optional end, stop comparing B at that position.\n",
      " |      suffix can also be a tuple of bytes to try.\n",
      " |  \n",
      " |  expandtabs(...)\n",
      " |      B.expandtabs(tabsize=8) -> copy of B\n",
      " |      \n",
      " |      Return a copy of B where all tab characters are expanded using spaces.\n",
      " |      If tabsize is not given, a tab size of 8 characters is assumed.\n",
      " |  \n",
      " |  find(...)\n",
      " |      B.find(sub[, start[, end]]) -> int\n",
      " |      \n",
      " |      Return the lowest index in B where subsection sub is found,\n",
      " |      such that sub is contained within B[start,end].  Optional\n",
      " |      arguments start and end are interpreted as in slice notation.\n",
      " |      \n",
      " |      Return -1 on failure.\n",
      " |  \n",
      " |  hex(...)\n",
      " |      B.hex() -> string\n",
      " |      \n",
      " |      Create a string of hexadecimal numbers from a bytes object.\n",
      " |      Example: b'\\xb9\\x01\\xef'.hex() -> 'b901ef'.\n",
      " |  \n",
      " |  index(...)\n",
      " |      B.index(sub[, start[, end]]) -> int\n",
      " |      \n",
      " |      Return the lowest index in B where subsection sub is found,\n",
      " |      such that sub is contained within B[start,end].  Optional\n",
      " |      arguments start and end are interpreted as in slice notation.\n",
      " |      \n",
      " |      Raises ValueError when the subsection is not found.\n",
      " |  \n",
      " |  isalnum(...)\n",
      " |      B.isalnum() -> bool\n",
      " |      \n",
      " |      Return True if all characters in B are alphanumeric\n",
      " |      and there is at least one character in B, False otherwise.\n",
      " |  \n",
      " |  isalpha(...)\n",
      " |      B.isalpha() -> bool\n",
      " |      \n",
      " |      Return True if all characters in B are alphabetic\n",
      " |      and there is at least one character in B, False otherwise.\n",
      " |  \n",
      " |  isascii(...)\n",
      " |      B.isascii() -> bool\n",
      " |      \n",
      " |      Return True if B is empty or all characters in B are ASCII,\n",
      " |      False otherwise.\n",
      " |  \n",
      " |  isdigit(...)\n",
      " |      B.isdigit() -> bool\n",
      " |      \n",
      " |      Return True if all characters in B are digits\n",
      " |      and there is at least one character in B, False otherwise.\n",
      " |  \n",
      " |  islower(...)\n",
      " |      B.islower() -> bool\n",
      " |      \n",
      " |      Return True if all cased characters in B are lowercase and there is\n",
      " |      at least one cased character in B, False otherwise.\n",
      " |  \n",
      " |  isspace(...)\n",
      " |      B.isspace() -> bool\n",
      " |      \n",
      " |      Return True if all characters in B are whitespace\n",
      " |      and there is at least one character in B, False otherwise.\n",
      " |  \n",
      " |  istitle(...)\n",
      " |      B.istitle() -> bool\n",
      " |      \n",
      " |      Return True if B is a titlecased string and there is at least one\n",
      " |      character in B, i.e. uppercase characters may only follow uncased\n",
      " |      characters and lowercase characters only cased ones. Return False\n",
      " |      otherwise.\n",
      " |  \n",
      " |  isupper(...)\n",
      " |      B.isupper() -> bool\n",
      " |      \n",
      " |      Return True if all cased characters in B are uppercase and there is\n",
      " |      at least one cased character in B, False otherwise.\n",
      " |  \n",
      " |  join(self, iterable_of_bytes, /)\n",
      " |      Concatenate any number of bytes objects.\n",
      " |      \n",
      " |      The bytes whose method is called is inserted in between each pair.\n",
      " |      \n",
      " |      The result is returned as a new bytes object.\n",
      " |      \n",
      " |      Example: b'.'.join([b'ab', b'pq', b'rs']) -> b'ab.pq.rs'.\n",
      " |  \n",
      " |  ljust(...)\n",
      " |      B.ljust(width[, fillchar]) -> copy of B\n",
      " |      \n",
      " |      Return B left justified in a string of length width. Padding is\n",
      " |      done using the specified fill character (default is a space).\n",
      " |  \n",
      " |  lower(...)\n",
      " |      B.lower() -> copy of B\n",
      " |      \n",
      " |      Return a copy of B with all ASCII characters converted to lowercase.\n",
      " |  \n",
      " |  lstrip(self, bytes=None, /)\n",
      " |      Strip leading bytes contained in the argument.\n",
      " |      \n",
      " |      If the argument is omitted or None, strip leading  ASCII whitespace.\n",
      " |  \n",
      " |  partition(self, sep, /)\n",
      " |      Partition the bytes into three parts using the given separator.\n",
      " |      \n",
      " |      This will search for the separator sep in the bytes. If the separator is found,\n",
      " |      returns a 3-tuple containing the part before the separator, the separator\n",
      " |      itself, and the part after it.\n",
      " |      \n",
      " |      If the separator is not found, returns a 3-tuple containing the original bytes\n",
      " |      object and two empty bytes objects.\n",
      " |  \n",
      " |  replace(self, old, new, count=-1, /)\n",
      " |      Return a copy with all occurrences of substring old replaced by new.\n",
      " |      \n",
      " |        count\n",
      " |          Maximum number of occurrences to replace.\n",
      " |          -1 (the default value) means replace all occurrences.\n",
      " |      \n",
      " |      If the optional argument count is given, only the first count occurrences are\n",
      " |      replaced.\n",
      " |  \n",
      " |  rfind(...)\n",
      " |      B.rfind(sub[, start[, end]]) -> int\n",
      " |      \n",
      " |      Return the highest index in B where subsection sub is found,\n",
      " |      such that sub is contained within B[start,end].  Optional\n",
      " |      arguments start and end are interpreted as in slice notation.\n",
      " |      \n",
      " |      Return -1 on failure.\n",
      " |  \n",
      " |  rindex(...)\n",
      " |      B.rindex(sub[, start[, end]]) -> int\n",
      " |      \n",
      " |      Return the highest index in B where subsection sub is found,\n",
      " |      such that sub is contained within B[start,end].  Optional\n",
      " |      arguments start and end are interpreted as in slice notation.\n",
      " |      \n",
      " |      Raise ValueError when the subsection is not found.\n",
      " |  \n",
      " |  rjust(...)\n",
      " |      B.rjust(width[, fillchar]) -> copy of B\n",
      " |      \n",
      " |      Return B right justified in a string of length width. Padding is\n",
      " |      done using the specified fill character (default is a space)\n",
      " |  \n",
      " |  rpartition(self, sep, /)\n",
      " |      Partition the bytes into three parts using the given separator.\n",
      " |      \n",
      " |      This will search for the separator sep in the bytes, starting at the end. If\n",
      " |      the separator is found, returns a 3-tuple containing the part before the\n",
      " |      separator, the separator itself, and the part after it.\n",
      " |      \n",
      " |      If the separator is not found, returns a 3-tuple containing two empty bytes\n",
      " |      objects and the original bytes object.\n",
      " |  \n",
      " |  rsplit(self, /, sep=None, maxsplit=-1)\n",
      " |      Return a list of the sections in the bytes, using sep as the delimiter.\n",
      " |      \n",
      " |        sep\n",
      " |          The delimiter according which to split the bytes.\n",
      " |          None (the default value) means split on ASCII whitespace characters\n",
      " |          (space, tab, return, newline, formfeed, vertical tab).\n",
      " |        maxsplit\n",
      " |          Maximum number of splits to do.\n",
      " |          -1 (the default value) means no limit.\n",
      " |      \n",
      " |      Splitting is done starting at the end of the bytes and working to the front.\n",
      " |  \n",
      " |  rstrip(self, bytes=None, /)\n",
      " |      Strip trailing bytes contained in the argument.\n",
      " |      \n",
      " |      If the argument is omitted or None, strip trailing ASCII whitespace.\n",
      " |  \n",
      " |  split(self, /, sep=None, maxsplit=-1)\n",
      " |      Return a list of the sections in the bytes, using sep as the delimiter.\n",
      " |      \n",
      " |      sep\n",
      " |        The delimiter according which to split the bytes.\n",
      " |        None (the default value) means split on ASCII whitespace characters\n",
      " |        (space, tab, return, newline, formfeed, vertical tab).\n",
      " |      maxsplit\n",
      " |        Maximum number of splits to do.\n",
      " |        -1 (the default value) means no limit.\n",
      " |  \n",
      " |  splitlines(self, /, keepends=False)\n",
      " |      Return a list of the lines in the bytes, breaking at line boundaries.\n",
      " |      \n",
      " |      Line breaks are not included in the resulting list unless keepends is given and\n",
      " |      true.\n",
      " |  \n",
      " |  startswith(...)\n",
      " |      B.startswith(prefix[, start[, end]]) -> bool\n",
      " |      \n",
      " |      Return True if B starts with the specified prefix, False otherwise.\n",
      " |      With optional start, test B beginning at that position.\n",
      " |      With optional end, stop comparing B at that position.\n",
      " |      prefix can also be a tuple of bytes to try.\n",
      " |  \n",
      " |  strip(self, bytes=None, /)\n",
      " |      Strip leading and trailing bytes contained in the argument.\n",
      " |      \n",
      " |      If the argument is omitted or None, strip leading and trailing ASCII whitespace.\n",
      " |  \n",
      " |  swapcase(...)\n",
      " |      B.swapcase() -> copy of B\n",
      " |      \n",
      " |      Return a copy of B with uppercase ASCII characters converted\n",
      " |      to lowercase ASCII and vice versa.\n",
      " |  \n",
      " |  title(...)\n",
      " |      B.title() -> copy of B\n",
      " |      \n",
      " |      Return a titlecased version of B, i.e. ASCII words start with uppercase\n",
      " |      characters, all remaining cased characters have lowercase.\n",
      " |  \n",
      " |  translate(self, table, /, delete=b'')\n",
      " |      Return a copy with each character mapped by the given translation table.\n",
      " |      \n",
      " |        table\n",
      " |          Translation table, which must be a bytes object of length 256.\n",
      " |      \n",
      " |      All characters occurring in the optional argument delete are removed.\n",
      " |      The remaining characters are mapped through the given translation table.\n",
      " |  \n",
      " |  upper(...)\n",
      " |      B.upper() -> copy of B\n",
      " |      \n",
      " |      Return a copy of B with all ASCII characters converted to uppercase.\n",
      " |  \n",
      " |  zfill(...)\n",
      " |      B.zfill(width) -> copy of B\n",
      " |      \n",
      " |      Pad a numeric string B with zeros on the left, to fill a field\n",
      " |      of the specified width.  B is never truncated.\n",
      " |  \n",
      " |  ----------------------------------------------------------------------\n",
      " |  Class methods defined here:\n",
      " |  \n",
      " |  fromhex(string, /) from builtins.type\n",
      " |      Create a bytes object from a string of hexadecimal numbers.\n",
      " |      \n",
      " |      Spaces between two numbers are accepted.\n",
      " |      Example: bytes.fromhex('B9 01EF') -> b'\\\\xb9\\\\x01\\\\xef'.\n",
      " |  \n",
      " |  ----------------------------------------------------------------------\n",
      " |  Static methods defined here:\n",
      " |  \n",
      " |  __new__(*args, **kwargs) from builtins.type\n",
      " |      Create and return a new object.  See help(type) for accurate signature.\n",
      " |  \n",
      " |  maketrans(frm, to, /)\n",
      " |      Return a translation table useable for the bytes or bytearray translate method.\n",
      " |      \n",
      " |      The returned table will be one where each byte in frm is mapped to the byte at\n",
      " |      the same position in to.\n",
      " |      \n",
      " |      The bytes objects frm and to must be of the same length.\n",
      "\n"
     ]
    }
   ],
   "source": [
    "help(base64.standard_b64encode(b))"
   ]
  },
  {
   "cell_type": "code",
   "execution_count": 6,
   "metadata": {},
   "outputs": [
    {
     "name": "stdout",
     "output_type": "stream",
     "text": [
      "Help on built-in function sum in module builtins:\n",
      "\n",
      "sum(iterable, start=0, /)\n",
      "    Return the sum of a 'start' value (default: 0) plus an iterable of numbers\n",
      "    \n",
      "    When the iterable is empty, return the start value.\n",
      "    This function is intended specifically for use with numeric values and may\n",
      "    reject non-numeric types.\n",
      "\n"
     ]
    }
   ],
   "source": [
    "help(sum)"
   ]
  },
  {
   "cell_type": "code",
   "execution_count": 14,
   "metadata": {},
   "outputs": [
    {
     "name": "stdout",
     "output_type": "stream",
     "text": [
      "Help on module base64:\n",
      "\n",
      "NAME\n",
      "    base64 - Base16, Base32, Base64 (RFC 3548), Base85 and Ascii85 data encodings\n",
      "\n",
      "MODULE REFERENCE\n",
      "    https://docs.python.org/3.7/library/base64\n",
      "    \n",
      "    The following documentation is automatically generated from the Python\n",
      "    source files.  It may be incomplete, incorrect or include features that\n",
      "    are considered implementation detail and may vary between Python\n",
      "    implementations.  When in doubt, consult the module reference at the\n",
      "    location listed above.\n",
      "\n",
      "FUNCTIONS\n",
      "    a85decode(b, *, foldspaces=False, adobe=False, ignorechars=b' \\t\\n\\r\\x0b')\n",
      "        Decode the Ascii85 encoded bytes-like object or ASCII string b.\n",
      "        \n",
      "        foldspaces is a flag that specifies whether the 'y' short sequence should be\n",
      "        accepted as shorthand for 4 consecutive spaces (ASCII 0x20). This feature is\n",
      "        not supported by the \"standard\" Adobe encoding.\n",
      "        \n",
      "        adobe controls whether the input sequence is in Adobe Ascii85 format (i.e.\n",
      "        is framed with <~ and ~>).\n",
      "        \n",
      "        ignorechars should be a byte string containing characters to ignore from the\n",
      "        input. This should only contain whitespace characters, and by default\n",
      "        contains all whitespace characters in ASCII.\n",
      "        \n",
      "        The result is returned as a bytes object.\n",
      "    \n",
      "    a85encode(b, *, foldspaces=False, wrapcol=0, pad=False, adobe=False)\n",
      "        Encode bytes-like object b using Ascii85 and return a bytes object.\n",
      "        \n",
      "        foldspaces is an optional flag that uses the special short sequence 'y'\n",
      "        instead of 4 consecutive spaces (ASCII 0x20) as supported by 'btoa'. This\n",
      "        feature is not supported by the \"standard\" Adobe encoding.\n",
      "        \n",
      "        wrapcol controls whether the output should have newline (b'\\n') characters\n",
      "        added to it. If this is non-zero, each output line will be at most this\n",
      "        many characters long.\n",
      "        \n",
      "        pad controls whether the input is padded to a multiple of 4 before\n",
      "        encoding. Note that the btoa implementation always pads.\n",
      "        \n",
      "        adobe controls whether the encoded byte sequence is framed with <~ and ~>,\n",
      "        which is used by the Adobe implementation.\n",
      "    \n",
      "    b16decode(s, casefold=False)\n",
      "        Decode the Base16 encoded bytes-like object or ASCII string s.\n",
      "        \n",
      "        Optional casefold is a flag specifying whether a lowercase alphabet is\n",
      "        acceptable as input.  For security purposes, the default is False.\n",
      "        \n",
      "        The result is returned as a bytes object.  A binascii.Error is raised if\n",
      "        s is incorrectly padded or if there are non-alphabet characters present\n",
      "        in the input.\n",
      "    \n",
      "    b16encode(s)\n",
      "        Encode the bytes-like object s using Base16 and return a bytes object.\n",
      "    \n",
      "    b32decode(s, casefold=False, map01=None)\n",
      "        Decode the Base32 encoded bytes-like object or ASCII string s.\n",
      "        \n",
      "        Optional casefold is a flag specifying whether a lowercase alphabet is\n",
      "        acceptable as input.  For security purposes, the default is False.\n",
      "        \n",
      "        RFC 3548 allows for optional mapping of the digit 0 (zero) to the\n",
      "        letter O (oh), and for optional mapping of the digit 1 (one) to\n",
      "        either the letter I (eye) or letter L (el).  The optional argument\n",
      "        map01 when not None, specifies which letter the digit 1 should be\n",
      "        mapped to (when map01 is not None, the digit 0 is always mapped to\n",
      "        the letter O).  For security purposes the default is None, so that\n",
      "        0 and 1 are not allowed in the input.\n",
      "        \n",
      "        The result is returned as a bytes object.  A binascii.Error is raised if\n",
      "        the input is incorrectly padded or if there are non-alphabet\n",
      "        characters present in the input.\n",
      "    \n",
      "    b32encode(s)\n",
      "        Encode the bytes-like object s using Base32 and return a bytes object.\n",
      "    \n",
      "    b64decode(s, altchars=None, validate=False)\n",
      "        Decode the Base64 encoded bytes-like object or ASCII string s.\n",
      "        \n",
      "        Optional altchars must be a bytes-like object or ASCII string of length 2\n",
      "        which specifies the alternative alphabet used instead of the '+' and '/'\n",
      "        characters.\n",
      "        \n",
      "        The result is returned as a bytes object.  A binascii.Error is raised if\n",
      "        s is incorrectly padded.\n",
      "        \n",
      "        If validate is False (the default), characters that are neither in the\n",
      "        normal base-64 alphabet nor the alternative alphabet are discarded prior\n",
      "        to the padding check.  If validate is True, these non-alphabet characters\n",
      "        in the input result in a binascii.Error.\n",
      "    \n",
      "    b64encode(s, altchars=None)\n",
      "        Encode the bytes-like object s using Base64 and return a bytes object.\n",
      "        \n",
      "        Optional altchars should be a byte string of length 2 which specifies an\n",
      "        alternative alphabet for the '+' and '/' characters.  This allows an\n",
      "        application to e.g. generate url or filesystem safe Base64 strings.\n",
      "    \n",
      "    b85decode(b)\n",
      "        Decode the base85-encoded bytes-like object or ASCII string b\n",
      "        \n",
      "        The result is returned as a bytes object.\n",
      "    \n",
      "    b85encode(b, pad=False)\n",
      "        Encode bytes-like object b in base85 format and return a bytes object.\n",
      "        \n",
      "        If pad is true, the input is padded with b'\\0' so its length is a multiple of\n",
      "        4 bytes before encoding.\n",
      "    \n",
      "    decode(input, output)\n",
      "        Decode a file; input and output are binary files.\n",
      "    \n",
      "    decodebytes(s)\n",
      "        Decode a bytestring of base-64 data into a bytes object.\n",
      "    \n",
      "    encode(input, output)\n",
      "        Encode a file; input and output are binary files.\n",
      "    \n",
      "    encodebytes(s)\n",
      "        Encode a bytestring into a bytes object containing multiple lines\n",
      "        of base-64 data.\n",
      "    \n",
      "    standard_b64decode(s)\n",
      "        Decode bytes encoded with the standard Base64 alphabet.\n",
      "        \n",
      "        Argument s is a bytes-like object or ASCII string to decode.  The result\n",
      "        is returned as a bytes object.  A binascii.Error is raised if the input\n",
      "        is incorrectly padded.  Characters that are not in the standard alphabet\n",
      "        are discarded prior to the padding check.\n",
      "    \n",
      "    standard_b64encode(s)\n",
      "        Encode bytes-like object s using the standard Base64 alphabet.\n",
      "        \n",
      "        The result is returned as a bytes object.\n",
      "    \n",
      "    urlsafe_b64decode(s)\n",
      "        Decode bytes using the URL- and filesystem-safe Base64 alphabet.\n",
      "        \n",
      "        Argument s is a bytes-like object or ASCII string to decode.  The result\n",
      "        is returned as a bytes object.  A binascii.Error is raised if the input\n",
      "        is incorrectly padded.  Characters that are not in the URL-safe base-64\n",
      "        alphabet, and are not a plus '+' or slash '/', are discarded prior to the\n",
      "        padding check.\n",
      "        \n",
      "        The alphabet uses '-' instead of '+' and '_' instead of '/'.\n",
      "    \n",
      "    urlsafe_b64encode(s)\n",
      "        Encode bytes using the URL- and filesystem-safe Base64 alphabet.\n",
      "        \n",
      "        Argument s is a bytes-like object to encode.  The result is returned as a\n",
      "        bytes object.  The alphabet uses '-' instead of '+' and '_' instead of\n",
      "        '/'.\n",
      "\n",
      "DATA\n",
      "    __all__ = ['encode', 'decode', 'encodebytes', 'decodebytes', 'b64encod...\n",
      "\n",
      "FILE\n",
      "    /Applications/anaconda3/lib/python3.7/base64.py\n",
      "\n",
      "\n"
     ]
    }
   ],
   "source": [
    "import base64\n",
    "help(base64)"
   ]
  },
  {
   "cell_type": "code",
   "execution_count": null,
   "metadata": {},
   "outputs": [],
   "source": []
  },
  {
   "cell_type": "code",
   "execution_count": null,
   "metadata": {},
   "outputs": [],
   "source": [
    "\n",
    "    decodebytes(s)\n",
    "        Decode a bytestring of base-64 data into a bytes object."
   ]
  },
  {
   "cell_type": "code",
   "execution_count": null,
   "metadata": {},
   "outputs": [],
   "source": [
    "    b64decode(s, altchars=None, validate=False)\n",
    "        Decode the Base64 encoded bytes-like object or ASCII string s."
   ]
  },
  {
   "cell_type": "markdown",
   "metadata": {},
   "source": [
    "------課題１終わり"
   ]
  },
  {
   "cell_type": "code",
   "execution_count": 47,
   "metadata": {},
   "outputs": [],
   "source": [
    "with open(\"file-test.txt\", \"w\") as file:\n",
    "    file.write(\"hello\\n\")\n",
    "    file.write(\"world\\n\")"
   ]
  },
  {
   "cell_type": "code",
   "execution_count": 48,
   "metadata": {},
   "outputs": [
    {
     "name": "stdout",
     "output_type": "stream",
     "text": [
      "hello\n",
      "world\n"
     ]
    }
   ],
   "source": [
    "with open(\"file-test.txt\", \"r\") as file:\n",
    "    for line in file:\n",
    "        line = line.strip()\n",
    "        print(line)"
   ]
  },
  {
   "cell_type": "code",
   "execution_count": 55,
   "metadata": {},
   "outputs": [],
   "source": [
    "def write_to_file2d(filename, x, y):\n",
    "    with open(filename, \"w\") as file:\n",
    "        for i in range(len(x)):\n",
    "            file.write(\"{} {}\\n\".format(x[i],y[i]))"
   ]
  },
  {
   "cell_type": "code",
   "execution_count": 56,
   "metadata": {},
   "outputs": [],
   "source": [
    "import math\n",
    "\n",
    "x=[]\n",
    "y=[]\n",
    "\n",
    "for i in range(3140):\n",
    "    p = i/100\n",
    "    q = math.sin(p)\n",
    "    x.append(p)\n",
    "    y.append(q)"
   ]
  },
  {
   "cell_type": "code",
   "execution_count": 58,
   "metadata": {},
   "outputs": [],
   "source": [
    "write_to_file2d(\"sin.txt\",x,y)"
   ]
  },
  {
   "cell_type": "markdown",
   "metadata": {},
   "source": [
    "-----課題終わり"
   ]
  },
  {
   "cell_type": "code",
   "execution_count": 60,
   "metadata": {},
   "outputs": [
    {
     "name": "stdout",
     "output_type": "stream",
     "text": [
      "<!DOCTYPE html>\n",
      "<html lang=\"ja\">\n",
      "  <head>\n",
      "    <meta http-equiv=\"Content-Type\" content=\"text/html; charset=UTF-8\">\n",
      "    <link rel=\"shortcut icon\" href=\"/favicon.ico\">\n",
      "    <meta name=\"date\" content=\"2020-06-26T13:39+09:00\">\n",
      "    <meta name=\"viewport\" content=\"width=device-width,initial-scale=1.0\">\n",
      "    <link rel=\"author\" href=\"mailto:ecc-support@ecc.u-tokyo.ac.jp\">\n",
      "    <link rel=\"alternate\" type=\"application/rss+xml\" href=\"/eccs.rss\" title=\"RSS\">\n",
      "    <link rel=\"stylesheet\" type=\"text/css\" href=\"/main_2019-04-12.css\">\n",
      "    <title>www.ecc.u-tokyo.ac.jp [東京大学情報基盤センター 教育用計算機システム] </title>\n",
      "    <script src=\"https://ajax.googleapis.com/ajax/libs/jquery/1.11.1/jquery.min.js\"></script>\n",
      "    <script>\n",
      "      $(function () {\n",
      "\t$('.drawer_button').click(function () {\n",
      "\t\t$(this).toggleClass('active');\n",
      "\t\t$('.drawer_bg').fadeToggle();\n",
      "\t\t$('nav').toggleClass('open');\n",
      "\t})\n",
      "\t$('.drawer_bg').click(function () {\n",
      "\t\t$(this).fadeOut();\n",
      "\t\t$('.drawer_button').removeClass('active');\n",
      "\t\t$('nav').removeClass('open');\n",
      "\t});\n",
      "   })\n",
      "    </script>\n",
      "    <script>\n",
      "      $(function () {\n",
      "          var $win = $(window);\n",
      "          var headerHight = 139; // ヘッダの高さ\n",
      "          $win.on('load resize', function() {\n",
      "              var windowWidth = window.innerWidth;\n",
      "              if (windowWidth <= 1000) {\n",
      "                  $('a[href^=#]').click(function(){\n",
      "                      var href= $(this).attr(\"href\");\n",
      "                      var target = $(href == \"#\" || href == \"\" ? 'html' : href);\n",
      "                      var position = target.offset().top-headerHight; //ヘッダの高さ分位置をずらす\n",
      "                      $(\"html, body\").animate({scrollTop:position}, 300, \"swing\");\n",
      "                      return false;\n",
      "                  }) \n",
      "\t      }\n",
      "\t  })\n",
      "      })\n",
      "    </script>\n",
      "  </head>\n",
      "  <body>\n",
      "    <header>\n",
      "      <div class=\"logo\">\n",
      "\t<a href=\"/\"><img src=\"/files/logo50.png\" alt=\"logo\"></a>\n",
      "      </div>\n",
      "      <div class=\"others\">\n",
      "\t<div class=\"smartphone-hidden\">\n",
      "\t  <a href=\"/newcomer.html\">初めての方へ</a> |\n",
      "\t  <a href=\"/index.html#sitemap\">サイトマップ</a> |\n",
      "\t  <a href=\"/announcement/2013/02/19_1699.html\">ML</a> |\n",
      "\t</div>\n",
      "\t<a href=\"/terminal_view/\" target=\"_blank\">空席状況</a> | \n",
      "\t<a href=\"/en/\">English</a>\n",
      "      </div>\n",
      "    </header>\n",
      "    <div id=\"search\">\n",
      "      <div id=\"gsc\">\n",
      "\t<script>\n",
      "  (function() {\n",
      "    var cx = '008107435797153216049:p4x1z4crnre';\n",
      "    var gcse = document.createElement('script');\n",
      "    gcse.type = 'text/javascript';\n",
      "    gcse.async = true;\n",
      "    gcse.src = 'https://cse.google.com/cse.js?cx=' + cx;\n",
      "    var s = document.getElementsByTagName('script')[0];\n",
      "    s.parentNode.insertBefore(gcse, s);\n",
      "  })();\n",
      "\t</script>\n",
      "\t<gcse:search></gcse:search>\n",
      "      </div>\n",
      "    </div>\n",
      "    <div class=\"drawer_menu\">\n",
      "      <!-- コピーライト消さないように！\n",
      "\t\tZarigani Design Office Drawer Menu\n",
      "\t\tCopyright 2018 Zarigani Design Office\n",
      "                Customized by minimalgreen\n",
      "\n",
      "\t\tPermission is hereby granted, free of charge, to any person obtaining a copy of this software and associated documentation files (the \"Software\"), to deal in the Software without restriction, including without limitation the rights to use, copy, modify, merge, publish, distribute, sublicense, and/or sell copies of the Software, and to permit persons to whom the Software is furnished to do so, subject to the following conditions:\n",
      "\n",
      "\t\tThe above copyright notice and this permission notice shall be included in all copies or substantial portions of the Software.\n",
      "\n",
      "\t\tTHE SOFTWARE IS PROVIDED \"AS IS\", WITHOUT WARRANTY OF ANY KIND, EXPRESS OR IMPLIED, INCLUDING BUT NOT LIMITED TO THE WARRANTIES OF MERCHANTABILITY, FITNESS FOR A PARTICULAR PURPOSE AND NONINFRINGEMENT. IN NO EVENT SHALL THE AUTHORS OR COPYRIGHT HOLDERS BE LIABLE FOR ANY CLAIM, DAMAGES OR OTHER LIABILITY, WHETHER IN AN ACTION OF CONTRACT, TORT OR OTHERWISE, ARISING FROM, OUT OF OR IN CONNECTION WITH THE SOFTWARE OR THE USE OR OTHER \n",
      "\t\tコピーライトここまで -->\n",
      "      <div class=\"drawer_bg\"></div>\n",
      "      <button type=\"button\" class=\"drawer_button\">\n",
      "\t<span class=\"drawer_bar drawer_bar1\"></span>\n",
      "\t<span class=\"drawer_bar drawer_bar2\"></span>\n",
      "\t<span class=\"drawer_bar drawer_bar3\"></span>\n",
      "\t<span class=\"drawer_menu_text drawer_text\">MENU</span>\n",
      "\t<span class=\"drawer_close drawer_text\">CLOSE</span>\n",
      "      </button>\n",
      "      <nav class=\"drawer_nav_wrapper main\">\n",
      "\t<ul class=\"drawer_nav\">\n",
      "\t  \t<li class=\"\"><a href=\"/user.html\" title=\"利用する方々へ\">利用者へ</a><ul class=\"second-level\">\t<li class=\"\"><a class=\"submenu\" href=\"/rule.html\" title=\"東京大学教育用計算機システム利用規則\">利用規則</a></li>\n",
      "\t<li class=\"\"><a class=\"submenu\" href=\"/application.html\" title=\"申請に関して\">申請</a></li>\n",
      "\t<li class=\"\"><a class=\"submenu\" href=\"/guide/tebiki/index.html\" title=\"利用の手引き\">利用の手引き</a></li>\n",
      "\t<li class=\"\"><a class=\"submenu\" href=\"/seminar.html\" title=\"講習会等に関して\">講習会</a></li>\n",
      "\t<li class=\"\"><a class=\"submenu\" href=\"/system/policy.html\" title=\"情報メディア教育部門の運用ポリシー\">運用ポリシー</a></li>\n",
      "\t<li class=\"\"><a class=\"submenu\" href=\"/announcement/policy.html\" title=\"情報メディア教育部門の広報ポリシー\">広報ポリシー</a></li>\n",
      "\t<li class=\"\"><a class=\"submenu\" href=\"/lecturer/index.html\" title=\"情報基盤センターの利用に関する教員向けの情報\">教員向け情報</a></li>\n",
      "\t<li class=\"\"><a class=\"submenu\" href=\"/futankin.html\" title=\"利用負担金について\">利用負担金</a></li>\n",
      "\t<li class=\"\"><a class=\"submenu\" href=\"/newcomer.html\" title=\"初めての方へ\">初めての方へ</a></li>\n",
      "</ul></li>\n",
      "\t<li class=\"\"><a href=\"/announcement/index.html\" title=\"広報\">広報</a><ul class=\"second-level\">\t<li class=\"\"><a class=\"submenu\" href=\"/announcement/daily.html\" title=\"日付順一覧\">日付順</a></li>\n",
      "\t<li class=\"\"><a class=\"submenu\" href=\"/announcement/category.html\" title=\"カテゴリ別一覧\">カテゴリ別</a></li>\n",
      "\t<li class=\"\"><a class=\"submenu\" href=\"/announcement/trouble.html\" title=\"障害情報\">障害情報</a></li>\n",
      "</ul></li>\n",
      "\t<li class=\"\"><a href=\"/system/index.html\" title=\"教育用計算機システムについて\">システム</a><ul class=\"second-level\">\t<li class=\"\"><a class=\"submenu\" href=\"/system/terminal.html\" title=\"端末\">端末</a></li>\n",
      "\t<li class=\"\"><a class=\"submenu\" href=\"/system/software.html\" title=\"ソフトウェア\">ソフトウェア</a></li>\n",
      "\t<li class=\"\"><a class=\"submenu\" href=\"/system/printing.html\" title=\"印刷\">印刷</a></li>\n",
      "\t<li class=\"\"><a class=\"submenu\" href=\"/system/mail.html\" title=\"メール\">メール</a></li>\n",
      "\t<li class=\"\"><a class=\"submenu\" href=\"/system/mobile.html\" title=\"携帯端末(ノートPC)などの利用\">携帯端末</a></li>\n",
      "\t<li class=\"\"><a class=\"submenu\" href=\"/system/outside.html\" title=\"外部からのECCSの利用\">外部から</a></li>\n",
      "\t<li class=\"\"><a class=\"submenu\" href=\"/system/network_storage.html\" title=\"WebDAV 環境\">WebDAV</a></li>\n",
      "\t<li class=\"\"><a class=\"submenu\" href=\"/system/sodan.html\" title=\"相談員\">相談員</a></li>\n",
      "\t<li class=\"\"><a class=\"submenu\" href=\"/system/service.html\" title=\"関連サービス\">関連サービス</a></li>\n",
      "\t<li class=\"\"><a class=\"submenu\" href=\"/facilities/index.html\" title=\"施設について\">施設</a></li>\n",
      "</ul></li>\n",
      "\t<li class=\"\"><a href=\"/faq/index.html\" title=\"FAQ: よくある質問\">FAQ</a></li>\n",
      "\t<li class=\"\"><a href=\"/question.html\" title=\"問い合わせ\">問い合わせ</a><ul class=\"second-level\">\t<li class=\"\"><a class=\"submenu\" href=\"/map.html\" title=\"本郷・駒場の窓口\">窓口</a></li>\n",
      "</ul></li>\n",
      "\t<li class=\"\"><a href=\"/itc-lms/index.html\" title=\"情報基盤センター学習管理システム ITC-LMS\">ITC-LMS</a><ul class=\"second-level\">\t<li class=\"\"><a class=\"submenu\" href=\"/itc-lms/faq.html\" title=\"FAQ: よくある質問 (ITC-LMS)\">FAQ</a></li>\n",
      "\t<li class=\"\"><a class=\"submenu\" href=\"/itc-lms/rule.html\" title=\"東京大学情報基盤センター学習管理システム利用規則\">利用規則</a></li>\n",
      "</ul></li>\n",
      "\t<li class=\"\"><a href=\"/links.html\" title=\"各種リンク\">リンク</a></li>\n",
      "\n",
      "\t</ul>\n",
      "      </nav>\n",
      "    </div>\n",
      "    <nav class=\"breadcrumbs\">\n",
      "      <a class=\"site_position\" href=\"/index.html\">Top</a>\n",
      "    </nav>\n",
      "    <nav class=\"sub\">\n",
      "      <ul id=\"sub_menu\">\n",
      "\t<li class=\"important_links\"><a href=\"https://mail.google.com/a/g.ecc.u-tokyo.ac.jp\">ECCS クラウドメール</a><br>ECCS クラウドメール用のログインページ (通常の Gmail からもログイン可能)</li>\n",
      "\t<li class=\"important_links\"><a href=\"https://ms.ecc.u-tokyo.ac.jp/\">ECCS 教職員メール</a><br>ECCS 教職員メール用の MailSuite</li>\n",
      "\t<li class=\"important_links\"><a href=\"https://secure.ecc.u-tokyo.ac.jp/\">セキュアWWWサーバ</a><br>パスワードの変更など</li>\n",
      "\t<li class=\"important_links\"><a href=\"http://lecture.ecc.u-tokyo.ac.jp/\">講義用WWWサーバ</a><br>講義に関するWWWページ</li>\n",
      "\t<li class=\"important_links\"><a href=\"http://www.ecc.u-tokyo.ac.jp/guide/tebiki/\">利用の手引き</a><br>教育用計算機システムの使い方</li>\n",
      "\t<li class=\"important_links\"><a href=\"https://hwb.ecc.u-tokyo.ac.jp/\">はいぱーワークブック</a><br>\n",
      "\t 情報処理システムのオンライン自習教材</li>\n",
      "\t<li class=\"important_links\"><a href=\"https://itc-lms.ecc.u-tokyo.ac.jp/\">ITC-LMS</a><br>\n",
      "\t 情報基盤センター学習管理システム</li>\n",
      "\t<li class=\"important_links\"><a href=\"https://davm.ecc.u-tokyo.ac.jp/\">WebDAV 環境 - Mac -</a><br>\n",
      "\t Mac 環境のホームディレクトリ</li>\n",
      "\t<li class=\"important_links\"><a href=\"https://davw.ecc.u-tokyo.ac.jp/\">WebDAV 環境 - Win -</a><br>\n",
      "\t Windows 環境のホームディレクトリ</li>\n",
      "      </ul>\n",
      "    </nav>\n",
      "    <section class=\"body\">\n",
      "      <h1 class=\"page_title\">東京大学情報基盤センター 教育用計算機システム</h1>\n",
      "     \n",
      "      <hr>\n",
      "<div class=\"update\">更新: 2020年06月26日13時39分</div>\r\n",
      "<hr>\r\n",
      "<p style=\"border: red 1px solid;padding: 1em;color: ivory;background-color: red;font-weight: bold;font-size: 1.2em;\">2020年4月8日から当面の間，新型コロナウイルス感染症対策のため，全ての窓口を閉鎖しています．問い合わせは<a href=\"/question.html#email\" style=\"color:ivory;\">電子メール</a>でお願いします．</p>\r\n",
      "<hr>\r\n",
      "<p>ECCS クラウドメールの利用には初期設定が必要です．広報「<a href=\"/announcement/2016/04/01_2159.html\">ECCSクラウドメール利用方法 -初期設定等-</a>」をご覧ください．</p>\r\n",
      "<p>会議や授業での利用を念頭に置いた，東京大学の学生・教員が利用できる Web 会議サービスを紹介するサイトとして，<a href=\"https://utelecon.github.io\">オンライン授業・Web会議 ポータルサイト @ 東京大学</a> が公開されました．</p>\r\n",
      "<p><span class=\"attention\">日本国外のネットワークからメーラ(SMTP，POP，IMAP) で ECCS教職員メールを利用するには，<a href=\"https://ms.ecc.u-tokyo.ac.jp/\">MailSuite</a>で国毎のアクセス許可の設定を行う必要</span>が有ります．詳しくは広報「<a href=\"/announcement/2016/08/19_2293.html\">国別認証制限の設定について</a>」をご覧ください．</p>\r\n",
      "<hr>\r\n",
      "<!-- ECCS2016 特別 ここから-->\r\n",
      "<h3 class=\"announcement_section\">ECCS2016</h3>\r\n",
      "<ul>\r\n",
      " <li class=\"announcement_title\">システム全般: <a href=\"/system/\">システム</a>のページをご覧ください．</li>\r\n",
      " <li class=\"announcement_title\">メールシステム関連: <a href=\"/announcement/2016/02/08_2116.html\">ECCSクラウドメールサービスのご案内</a>，<a href=\"/announcement/2016/04/01_2159.html\">ECCSクラウドメール利用方法 -初期設定等-</a></li>\r\n",
      "<li class=\"announcement_title\"><a href=\"https://www.u-tokyo.ac.jp/ja/administration/dics/service/account.html\">UTokyo Account (東京大学アカウント)</a>: <a href=\"https://www.ut-portal.u-tokyo.ac.jp/wiki/index.php/UTokyo_Account\">教職員向け</a>(学内ネットワークからのみアクセス可)，<a href=\"https://www.u-tokyo.ac.jp/ja/administration/dics/service/account_student.html\">学生向け</a>\r\n",
      "<br>\r\n",
      "UTokyo Account の通知書に記載されたパスワードの変更には ECCS の端末も利用可能です．詳しくは広報「<a href=\"/guest_account.html\">【Mac環境】ゲストアカウントについて</a>」をご覧ください．</li>\r\n",
      "<li class=\"announcement_title\"><a href=\"/announcement/trouble.html\">障害情報</a>, <a href=\"/faq/index.html\">よくある質問</a>: システムの利用に当たって何か問題があれば，ご覧ください．</li>\r\n",
      "<!--\r\n",
      " <li class=\"announcement_title\"><a href=\"/terminal_view/\">ECCS端末空席状況</a>: 各部屋のECCS端末の空き状況を確認できます．</li>\r\n",
      "-->\r\n",
      "</ul>\r\n",
      "<!-- ECCS2016 特別 ここまで-->\r\n",
      "<hr>\r\n",
      "<!-- システム停止等(広報管理ページでの種類ID:5) -->\r\n",
      "<h3 class=\"announcement_section\">システム停止等</h3>\r\n",
      "\r\n",
      "<ul class=\"announcement\">\r\n",
      " <li class=\"announcement_title\"><a href=\"/announcement/2020/06/05_3181.html\">【終了】【ITC-LMS】緊急システムメンテナンスのお知らせ (2020.6.5 21:00-23:00)</a> <span class=\"date\">更新: 2020年06月05日</span></li>\n",
      " \r\n",
      "</ul>\r\n",
      "\r\n",
      "<p style=\"font-size:small;\" >UTnet基幹ネットワークが停止している場合，影響範囲の施設ではECCSのサービスをご利用になれません．UTnet基幹ネットワークの停止については，<a href=\"https://www.nc.u-tokyo.ac.jp/\">UTnet Home Page (www.nc.u-tokyo.ac.jp)</a> をご覧ください．</p>\r\n",
      "<!-- 速報(広報管理ページでの種類ID:2) -->\r\n",
      "<h3 class=\"announcement_section\">速報</h3>\r\n",
      "<ul class=\"announcement\">\r\n",
      " <li class=\"announcement_title\"><a href=\"/announcement/2020/06/25_3189.html\">[復旧]【ITC-LMS】一括ダウンロードを行うとエラーが発生することがある不具合について</a> <span class=\"date\">更新: 2020年06月26日</span></li>\n",
      "<li class=\"announcement_title\"><a href=\"/announcement/2020/06/23_3188.html\">[復旧]【ITC-LMS】メールや LINE によるお知らせ通知の不具合について</a> <span class=\"date\">更新: 2020年06月26日</span></li>\n",
      "<li class=\"announcement_title\"><a href=\"/announcement/2020/06/22_3187.html\">2021年情報基盤センター演習室の閉室に関するアンケート</a> <span class=\"date\">更新: 2020年06月22日</span></li>\n",
      "<li class=\"announcement_title\"><a href=\"/announcement/2020/06/04_3180.html\">【終了】【ITC-LMS】システムメンテナンスのお知らせ (2020.6.21 10:00-15:00)</a> <span class=\"date\">更新: 2020年06月21日</span></li>\n",
      "<li class=\"announcement_title\"><a href=\"/announcement/2020/06/17_3186.html\">【ITC-LMS】テスト機能で解答したにもかかわらず未回答となる不具合について</a> <span class=\"date\">更新: 2020年06月19日</span></li>\n",
      "<li class=\"announcement_title\"><a href=\"/announcement/2020/06/11_3184.html\">ECCS端末のWindows環境OSの変更と個人プロファイルの再作成について</a> <span class=\"date\">更新: 2020年06月11日</span></li>\n",
      "<li class=\"announcement_title\"><a href=\"/announcement/2020/06/08_3183.html\">[復旧]【ITC-LMS】課題機能で成果物やフィードバックを閲覧できない不具合について</a> <span class=\"date\">更新: 2020年06月09日</span></li>\n",
      "<li class=\"announcement_title\"><a href=\"/announcement/2020/05/11_3164.html\">ECCS教職員メールのシステム移行について（移行日延期）</a> <span class=\"date\">更新: 2020年06月08日</span></li>\n",
      "<li class=\"announcement_title\"><a href=\"/announcement/2020/06/05_3181.html\">【終了】【ITC-LMS】緊急システムメンテナンスのお知らせ (2020.6.5 21:00-23:00)</a> <span class=\"date\">更新: 2020年06月05日</span></li>\n",
      "<li class=\"announcement_title\"><a href=\"/announcement/2020/06/03_3179.html\">【ITC-LMS】テスト機能で解答期間後に自分の解答が見れなくなる不具合について</a> <span class=\"date\">更新: 2020年06月03日</span></li>\n",
      "<li class=\"announcement_title\"><a href=\"/announcement/2020/05/27_3177.html\">ECCS 広報用メーリングリストの終了 (2020年6月末)</a> <span class=\"date\">更新: 2020年05月27日</span></li>\n",
      "\r\n",
      "</ul>\r\n",
      "<p>より古い広報は<a href=\"/announcement/daily.html\">広報 &gt; 日付順</a>のページをご覧ください．</p>\r\n",
      "<p>質問の前に，<a href=\"/announcement/trouble.html\">障害情報</a>や，<a href=\"/faq/index.html\">FAQ(よくある質問)</a>をご覧ください．</p>\r\n",
      "<hr>\r\n",
      "<p>ECCSのパスワードの<span class=\"attention\">有効期間は最長1年間</span>ですので，有効期限切れに注意してください．詳細は FAQ「<a href=\"/announcement/2012/09/12_1656.html\">パスワードの有効期間について</a>」をご覧ください．</p>\r\n",
      "<!-- 特別 ここまで-->\r\n",
      "<hr>\r\n",
      "<p>学内組織向けメールサーバ (MailHosting) については <a href=\"https://mh.itc.u-tokyo.ac.jp/\">https://mh.itc.u-tokyo.ac.jp/</a> をご覧ください．</p>\r\n",
      "<p>UTokyo Account (東京大学アカウント) については <a href=\"https://www.u-tokyo.ac.jp/ja/administration/dics/service/account.html\">情報システム本部の UTokyo Account のページ</a> をご覧ください．</p>\r\n",
      "\r\n",
      "<h3 class=\"announcement_section\">メールシステム</h3>\r\n",
      "<p>ECCSクラウドメール及びECCS教職員メール (教職員のみ) の2種類のメールサービスを提供しています．詳しくは<a href=\"/system/mail.html\">メールに関する案内のページ</a> をご覧ください．</p>\r\n",
      "\r\n",
      "<!--\r\n",
      "<p><span class=\"attention\">2015年度からECCSを利用していた学生のメールアカウントについて @mail.ecc.u-tokyo.ac.jp 宛のメールボックス等 (ECCS2012 のメールシステム上の全データ) を削除しました．</span>2016年度末迄は@mail.ecc.u-tokyo.ac.jp 宛のメールをECCSクラウドメール宛に転送しています．詳しくは 広報「<a href=\"/eccs2016/mail2016.html\">ECCS2016メールシステム移行</a>」「<a href=\"/announcement/2016/02/08_2116.html\">ECCSクラウドメールサービスのご案内</a>」をご覧ください．</p>\r\n",
      "-->\r\n",
      "\r\n",
      "\r\n",
      "<h3 class=\"announcement_section\">システム変更情報</h3>\r\n",
      "<ul class=\"announcement\">\r\n",
      " <li class=\"announcement_title\"><a href=\"/announcement/2020/06/11_3184.html\">ECCS端末のWindows環境OSの変更と個人プロファイルの再作成について</a> <span class=\"date\">更新: 2020年06月11日</span></li>\n",
      "\r\n",
      "</ul>\r\n",
      "\r\n",
      "\r\n",
      "<h3 class=\"announcement_section\"><a name=\"sitemap\">サイトマップ</a></h3>\r\n",
      "\r\n",
      "<div align=\"center\">\r\n",
      "<table class=\"site_map\" border=\"0\">\r\n",
      "<tr>   <td class=\"site_map\" width=\"50%\" valign=\"top\">\n",
      "    <a href=\"user.html\">利用者へ</a>\n",
      "    <div class=\"page_list\"><a href=\"/rule.html\">利用規則</a>, <a href=\"/application.html\">申請</a>, <a href=\"/guide/tebiki/index.html\">利用の手引き</a>, <a href=\"/seminar.html\">講習会</a>, <a href=\"/system/policy.html\">運用ポリシー</a>, <a href=\"/announcement/policy.html\">広報ポリシー</a>, <a href=\"/lecturer/index.html\">教員向け情報</a>, <a href=\"/futankin.html\">利用負担金</a>, <a href=\"/newcomer.html\">初めての方へ</a></div>\n",
      "   </td>\n",
      "   <td class=\"site_map\" width=\"50%\" valign=\"top\">\n",
      "    <a href=\"announcement/index.html\">広報</a>\n",
      "    <div class=\"page_list\"><a href=\"/announcement/daily.html\">日付順</a>, <a href=\"/announcement/category.html\">カテゴリ別</a>, <a href=\"/announcement/trouble.html\">障害情報</a></div>\n",
      "   </td>\n",
      "</tr>\n",
      "<tr>   <td class=\"site_map\" width=\"50%\" valign=\"top\">\n",
      "    <a href=\"system/index.html\">システム</a>\n",
      "    <div class=\"page_list\"><a href=\"/system/terminal.html\">端末</a>, <a href=\"/system/software.html\">ソフトウェア</a>, <a href=\"/system/printing.html\">印刷</a>, <a href=\"/system/mail.html\">メール</a>, <a href=\"/system/mobile.html\">携帯端末</a>, <a href=\"/system/outside.html\">外部から</a>, <a href=\"/system/network_storage.html\">WebDAV</a>, <a href=\"/system/sodan.html\">相談員</a>, <a href=\"/system/service.html\">関連サービス</a>, <a href=\"/facilities/index.html\">施設</a></div>\n",
      "   </td>\n",
      "   <td class=\"site_map\" width=\"50%\" valign=\"top\">\n",
      "    <a href=\"faq/index.html\">FAQ</a>\n",
      "    <div class=\"page_list\"></div>\n",
      "   </td>\n",
      "</tr>\n",
      "<tr>   <td class=\"site_map\" width=\"50%\" valign=\"top\">\n",
      "    <a href=\"question.html\">問い合わせ</a>\n",
      "    <div class=\"page_list\"><a href=\"/map.html\">窓口</a></div>\n",
      "   </td>\n",
      "   <td class=\"site_map\" width=\"50%\" valign=\"top\">\n",
      "    <a href=\"itc-lms/index.html\">ITC-LMS</a>\n",
      "    <div class=\"page_list\"><a href=\"/itc-lms/faq.html\">FAQ</a>, <a href=\"/itc-lms/rule.html\">利用規則</a></div>\n",
      "   </td>\n",
      "</tr>\n",
      "<tr>   <td class=\"site_map\" width=\"50%\" valign=\"top\">\n",
      "    <a href=\"links.html\">リンク</a>\n",
      "    <div class=\"page_list\"></div>\n",
      "   </td>\n",
      "</tr>\n",
      "\r\n",
      "</table>\r\n",
      "</div>    </section>\n",
      "    <div id=\"important_links_for_smart_phone\">\n",
      "      <ul>\n",
      "\t<li><a href=\"http://mail.google.com/a/g.ecc.u-tokyo.ac.jp\">ECCS クラウドメール</a></li>\n",
      "\t<li><a href=\"https://ms.ecc.u-tokyo.ac.jp/\">MailSuite</a></li>\n",
      "\t<li><a href=\"https://secure.ecc.u-tokyo.ac.jp/\">セキュアWWWサーバ</a></li>\n",
      "\t<li><a href=\"https://lecture.ecc.u-tokyo.ac.jp/\">講義用WWWサーバ</a></li>\n",
      "\t<li><a href=\"/guide/tebiki/\">利用の手引き</a></li>\n",
      "\t<li><a href=\"https://hwb.ecc.u-tokyo.ac.jp/\">はいぱーワークブック</a></li>\n",
      "\t<li><a href=\"https://itc-lms.ecc.u-tokyo.ac.jp/\">ITC-LMS</a></li>\n",
      "\t<li><a href=\"https://davm.ecc.u-tokyo.ac.jp/\">WebDAV 環境 - Mac -</a></li>\n",
      "\t<li><a href=\"https://davw.ecc.u-tokyo.ac.jp/\">WebDAV 環境 - Win -</a></li>\n",
      "      </ul>\n",
      "    </div>\n",
      "    <footer>\n",
      "&copy; 東京大学 情報基盤センター\n",
      "    </footer>\n",
      "  </body>\n",
      "</html>\n",
      "\n"
     ]
    }
   ],
   "source": [
    "import urllib.request\n",
    "with urllib.request.urlopen(\"https://www.ecc.u-tokyo.ac.jp/\") as response:\n",
    "    the_page = response.read()\n",
    "    the_html = the_page.decode('utf-8')\n",
    "    print(the_html)"
   ]
  },
  {
   "cell_type": "code",
   "execution_count": null,
   "metadata": {},
   "outputs": [],
   "source": [
    "def httpget(url, filename):\n",
    "    "
   ]
  },
  {
   "cell_type": "code",
   "execution_count": null,
   "metadata": {},
   "outputs": [],
   "source": []
  },
  {
   "cell_type": "code",
   "execution_count": 62,
   "metadata": {},
   "outputs": [
    {
     "data": {
      "text/plain": [
       "{'hello': 'kon-nichi-ha'}"
      ]
     },
     "execution_count": 62,
     "metadata": {},
     "output_type": "execute_result"
    }
   ],
   "source": [
    "dic = {}\n",
    "dic['hello'] = 'kon-nichi-ha'\n",
    "dic"
   ]
  },
  {
   "cell_type": "code",
   "execution_count": 63,
   "metadata": {},
   "outputs": [
    {
     "data": {
      "text/plain": [
       "True"
      ]
     },
     "execution_count": 63,
     "metadata": {},
     "output_type": "execute_result"
    }
   ],
   "source": [
    "'hello' in dic"
   ]
  },
  {
   "cell_type": "code",
   "execution_count": 64,
   "metadata": {},
   "outputs": [
    {
     "data": {
      "text/plain": [
       "False"
      ]
     },
     "execution_count": 64,
     "metadata": {},
     "output_type": "execute_result"
    }
   ],
   "source": [
    "'good morning' in dic"
   ]
  },
  {
   "cell_type": "code",
   "execution_count": 65,
   "metadata": {},
   "outputs": [
    {
     "data": {
      "text/plain": [
       "'kon-nichi-ha'"
      ]
     },
     "execution_count": 65,
     "metadata": {},
     "output_type": "execute_result"
    }
   ],
   "source": [
    "dic['hello']"
   ]
  },
  {
   "cell_type": "code",
   "execution_count": 66,
   "metadata": {},
   "outputs": [
    {
     "ename": "KeyError",
     "evalue": "'four'",
     "output_type": "error",
     "traceback": [
      "\u001b[0;31m---------------------------------------------------------------------------\u001b[0m",
      "\u001b[0;31mKeyError\u001b[0m                                  Traceback (most recent call last)",
      "\u001b[0;32m<ipython-input-66-e0b059c8c95f>\u001b[0m in \u001b[0;36m<module>\u001b[0;34m\u001b[0m\n\u001b[0;32m----> 1\u001b[0;31m \u001b[0mdic\u001b[0m\u001b[0;34m[\u001b[0m\u001b[0;34m'four'\u001b[0m\u001b[0;34m]\u001b[0m\u001b[0;34m\u001b[0m\u001b[0;34m\u001b[0m\u001b[0m\n\u001b[0m",
      "\u001b[0;31mKeyError\u001b[0m: 'four'"
     ]
    }
   ],
   "source": [
    "dic['four']"
   ]
  },
  {
   "cell_type": "code",
   "execution_count": 67,
   "metadata": {},
   "outputs": [],
   "source": [
    "dic['four'] = 4"
   ]
  },
  {
   "cell_type": "code",
   "execution_count": 68,
   "metadata": {},
   "outputs": [
    {
     "data": {
      "text/plain": [
       "4"
      ]
     },
     "execution_count": 68,
     "metadata": {},
     "output_type": "execute_result"
    }
   ],
   "source": [
    "dic['four']"
   ]
  },
  {
   "cell_type": "code",
   "execution_count": 69,
   "metadata": {},
   "outputs": [
    {
     "data": {
      "text/plain": [
       "{'files': [], 'folders': []}"
      ]
     },
     "execution_count": 69,
     "metadata": {},
     "output_type": "execute_result"
    }
   ],
   "source": [
    "a = {}\n",
    "a[\"files\"] = []\n",
    "a[\"folders\"] = []\n",
    "a"
   ]
  },
  {
   "cell_type": "code",
   "execution_count": 71,
   "metadata": {},
   "outputs": [
    {
     "data": {
      "text/plain": [
       "{'files': [], 'folders': []}"
      ]
     },
     "execution_count": 71,
     "metadata": {},
     "output_type": "execute_result"
    }
   ],
   "source": [
    "b = {\"files\": [], \"folders\": []}\n",
    "b"
   ]
  },
  {
   "cell_type": "code",
   "execution_count": 72,
   "metadata": {},
   "outputs": [
    {
     "data": {
      "text/plain": [
       "{'files': ['hello.txt'], 'folders': []}"
      ]
     },
     "execution_count": 72,
     "metadata": {},
     "output_type": "execute_result"
    }
   ],
   "source": [
    "b['files'].append('hello.txt')\n",
    "b"
   ]
  },
  {
   "cell_type": "code",
   "execution_count": 73,
   "metadata": {},
   "outputs": [
    {
     "data": {
      "text/plain": [
       "{'files': ['a.txt'], 'folders': []}"
      ]
     },
     "execution_count": 73,
     "metadata": {},
     "output_type": "execute_result"
    }
   ],
   "source": [
    "a['files'].append('a.txt')\n",
    "a"
   ]
  },
  {
   "cell_type": "code",
   "execution_count": 74,
   "metadata": {},
   "outputs": [
    {
     "data": {
      "text/plain": [
       "{'files': ['a.txt'], 'folders': []}"
      ]
     },
     "execution_count": 74,
     "metadata": {},
     "output_type": "execute_result"
    }
   ],
   "source": [
    "{'files': ['a.txt'], 'folders' : []}"
   ]
  },
  {
   "cell_type": "code",
   "execution_count": 75,
   "metadata": {},
   "outputs": [
    {
     "data": {
      "text/plain": [
       "{'files': ['a.txt'], 'folders': [{'files': ['hello.txt'], 'folders': []}]}"
      ]
     },
     "execution_count": 75,
     "metadata": {},
     "output_type": "execute_result"
    }
   ],
   "source": [
    "a['folders'].append(b)\n",
    "a"
   ]
  },
  {
   "cell_type": "code",
   "execution_count": 76,
   "metadata": {},
   "outputs": [
    {
     "data": {
      "text/plain": [
       "{'files': ['hello.txt'], 'folders': []}"
      ]
     },
     "execution_count": 76,
     "metadata": {},
     "output_type": "execute_result"
    }
   ],
   "source": [
    "b"
   ]
  },
  {
   "cell_type": "code",
   "execution_count": 77,
   "metadata": {},
   "outputs": [
    {
     "data": {
      "text/plain": [
       "'a.txt'"
      ]
     },
     "execution_count": 77,
     "metadata": {},
     "output_type": "execute_result"
    }
   ],
   "source": [
    "a['files'][0]"
   ]
  },
  {
   "cell_type": "code",
   "execution_count": 78,
   "metadata": {},
   "outputs": [
    {
     "data": {
      "text/plain": [
       "{'files': ['hello.txt'], 'folders': []}"
      ]
     },
     "execution_count": 78,
     "metadata": {},
     "output_type": "execute_result"
    }
   ],
   "source": [
    "a['folders'][0]"
   ]
  },
  {
   "cell_type": "code",
   "execution_count": 79,
   "metadata": {},
   "outputs": [
    {
     "data": {
      "text/plain": [
       "'hello.txt'"
      ]
     },
     "execution_count": 79,
     "metadata": {},
     "output_type": "execute_result"
    }
   ],
   "source": [
    "a['folders'][0]['files'][0]"
   ]
  },
  {
   "cell_type": "code",
   "execution_count": 80,
   "metadata": {},
   "outputs": [
    {
     "data": {
      "text/plain": [
       "'[3, 1, 4]'"
      ]
     },
     "execution_count": 80,
     "metadata": {},
     "output_type": "execute_result"
    }
   ],
   "source": [
    "import json\n",
    "json.dumps([3,1,4])"
   ]
  },
  {
   "cell_type": "code",
   "execution_count": 81,
   "metadata": {},
   "outputs": [
    {
     "data": {
      "text/plain": [
       "'{\"files\": [\"a.txt\"], \"folders\": [{\"files\": [\"hello.txt\"], \"folders\": []}]}'"
      ]
     },
     "execution_count": 81,
     "metadata": {},
     "output_type": "execute_result"
    }
   ],
   "source": [
    "json.dumps(a)"
   ]
  },
  {
   "cell_type": "code",
   "execution_count": 82,
   "metadata": {},
   "outputs": [
    {
     "data": {
      "text/plain": [
       "[3, 1, 4]"
      ]
     },
     "execution_count": 82,
     "metadata": {},
     "output_type": "execute_result"
    }
   ],
   "source": [
    "json.loads('[3, 1, 4]')"
   ]
  },
  {
   "cell_type": "code",
   "execution_count": 83,
   "metadata": {},
   "outputs": [
    {
     "name": "stdout",
     "output_type": "stream",
     "text": [
      "1\n",
      "{'number': 3, 'left': None, 'right': None}\n",
      "{'number': 5, 'left': None, 'right': None}\n"
     ]
    }
   ],
   "source": [
    "import json\n",
    "\n",
    "def make_node(num,left,right):\n",
    "    return {\"number\":num, \"left\":left, \"right\":right}\n",
    "\n",
    "def value(tree):\n",
    "    return tree[\"number\"]\n",
    "\n",
    "def left(tree):\n",
    "    return tree[\"left\"]\n",
    "\n",
    "def right(tree):\n",
    "    return tree[\"right\"]\n",
    "\n",
    "EmptyTree=None\n",
    "def is_empty(tree):\n",
    "    return tree==EmptyTree\n",
    "\n",
    "def write_tree(filename, tree):\n",
    "    t = json.dumps(tree)\n",
    "    with open(filename, \"w\") as file:\n",
    "        file.write(t)\n",
    "        \n",
    "def read_tree(filename):\n",
    "    with open(filename, \"r\") as file:\n",
    "        for line in file:\n",
    "            line = line.strip()\n",
    "        t = json.loads(line)\n",
    "    return t\n",
    "\n",
    "tree = make_node(1, make_node(3,EmptyTree, EmptyTree), make_node(5, EmptyTree, EmptyTree))\n",
    "write_tree(\"tree.txt\", tree)\n",
    "tree2=read_tree(\"tree.txt\")\n",
    "print(value(tree2))\n",
    "print(left(tree2))\n",
    "print(right(tree2))\n",
    "        "
   ]
  },
  {
   "cell_type": "markdown",
   "metadata": {},
   "source": [
    "#03200930 からとった"
   ]
  },
  {
   "cell_type": "code",
   "execution_count": 84,
   "metadata": {},
   "outputs": [
    {
     "data": {
      "text/plain": [
       "array([[0., 0., 0., 0.],\n",
       "       [0., 0., 0., 0.],\n",
       "       [0., 0., 0., 0.]])"
      ]
     },
     "execution_count": 84,
     "metadata": {},
     "output_type": "execute_result"
    }
   ],
   "source": [
    "import numpy as np\n",
    "a = np.zeros((3,4))\n",
    "a"
   ]
  },
  {
   "cell_type": "code",
   "execution_count": 86,
   "metadata": {},
   "outputs": [
    {
     "data": {
      "text/plain": [
       "array([1., 1., 1., ..., 1., 1., 1.])"
      ]
     },
     "execution_count": 86,
     "metadata": {},
     "output_type": "execute_result"
    }
   ],
   "source": [
    "large_array = np.zeros(10000)\n",
    "large_array += 1\n",
    "np.savez_compressed(\"filename.npz\", matrix=a, vector=large_array)\n",
    "\n",
    "loaded_objects = np.load(\"filename.npz\")\n",
    "loaded_objects[\"vector\"]\n",
    "\n",
    "\n"
   ]
  },
  {
   "cell_type": "code",
   "execution_count": null,
   "metadata": {},
   "outputs": [],
   "source": []
  },
  {
   "cell_type": "code",
   "execution_count": null,
   "metadata": {},
   "outputs": [],
   "source": []
  },
  {
   "cell_type": "code",
   "execution_count": null,
   "metadata": {},
   "outputs": [],
   "source": []
  },
  {
   "cell_type": "code",
   "execution_count": null,
   "metadata": {},
   "outputs": [],
   "source": []
  },
  {
   "cell_type": "code",
   "execution_count": null,
   "metadata": {},
   "outputs": [],
   "source": []
  },
  {
   "cell_type": "code",
   "execution_count": null,
   "metadata": {},
   "outputs": [],
   "source": []
  },
  {
   "cell_type": "code",
   "execution_count": null,
   "metadata": {},
   "outputs": [],
   "source": []
  },
  {
   "cell_type": "code",
   "execution_count": null,
   "metadata": {},
   "outputs": [],
   "source": []
  },
  {
   "cell_type": "markdown",
   "metadata": {},
   "source": [
    "## 課題2\n",
    "コメントコメントコメント\n",
    "\n",
    "感想感想感想"
   ]
  },
  {
   "cell_type": "code",
   "execution_count": 2,
   "metadata": {
    "collapsed": true
   },
   "outputs": [],
   "source": [
    "def kadai2(x, y):\n",
    "    return x+y"
   ]
  },
  {
   "cell_type": "markdown",
   "metadata": {},
   "source": [
    "## テストコード"
   ]
  },
  {
   "cell_type": "code",
   "execution_count": 3,
   "metadata": {},
   "outputs": [
    {
     "name": "stderr",
     "output_type": "stream",
     "text": [
      "..\n",
      "----------------------------------------------------------------------\n",
      "Ran 2 tests in 0.003s\n",
      "\n",
      "OK\n"
     ]
    }
   ],
   "source": [
    "import unittest\n",
    "\n",
    "class TestKadai(unittest.TestCase):\n",
    "    \n",
    "    def test_kadai1(self):\n",
    "        self.assertEqual(2, kadai1(1))\n",
    "        \n",
    "    def test_kadai2(self):\n",
    "        self.assertEqual(3, kadai2(1,2))\n",
    "\n",
    "if __name__ == '__main__':\n",
    "    unittest.main(argv=['first-arg-is-ignored'], exit=False)"
   ]
  }
 ],
 "metadata": {
  "kernelspec": {
   "display_name": "Python 3",
   "language": "python",
   "name": "python3"
  },
  "language_info": {
   "codemirror_mode": {
    "name": "ipython",
    "version": 3
   },
   "file_extension": ".py",
   "mimetype": "text/x-python",
   "name": "python",
   "nbconvert_exporter": "python",
   "pygments_lexer": "ipython3",
   "version": "3.7.3"
  }
 },
 "nbformat": 4,
 "nbformat_minor": 2
}
