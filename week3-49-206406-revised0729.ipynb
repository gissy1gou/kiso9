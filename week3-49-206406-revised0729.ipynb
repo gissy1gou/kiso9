{
 "cells": [
  {
   "cell_type": "markdown",
   "metadata": {},
   "source": [
    "# 第3回課題"
   ]
  },
  {
   "cell_type": "markdown",
   "metadata": {},
   "source": [
    "## 課題1 test_in_rectangle\n",
    "下に書かれていたヒントをそのままやりました。"
   ]
  },
  {
   "cell_type": "code",
   "execution_count": 3,
   "metadata": {},
   "outputs": [
    {
     "name": "stderr",
     "output_type": "stream",
     "text": [
      "..\n",
      "----------------------------------------------------------------------\n",
      "Ran 2 tests in 0.001s\n",
      "\n",
      "OK\n"
     ]
    }
   ],
   "source": [
    "# コードはコード用のセルで書く\n",
    "def in_rectangle(w,h,x,y,r):\n",
    "    if (r<x<w-r)and (r<y<h-r):\n",
    "        return True\n",
    "    else:\n",
    "        return False\n",
    "    \n",
    "in_rectangle(100,100,10,10,1)\n",
    "\n",
    "import unittest\n",
    "class TestInRectangle(unittest.TestCase):\n",
    "    def test_in_rectangle(self):\n",
    "        self.assertEqual(in_rectangle(5,4,2,2,1), True)\n",
    "        self.assertEqual(in_rectangle(5,4,9,10,1),False)\n",
    "        self.assertEqual(in_rectangle(5,4,2,1,1),False)\n",
    "        self.assertEqual(in_rectangle(5,4,1,2,1),False)\n",
    "        self.assertEqual(in_rectangle(5,4,4,2,1),False)\n",
    "        self.assertEqual(in_rectangle(5,4,2,3,1),False)\n",
    "\n",
    "if __name__ == '__main__':\n",
    "    unittest.main(argv= ['first-arg-is-ignored'],exit = False)"
   ]
  },
  {
   "cell_type": "markdown",
   "metadata": {},
   "source": [
    "## 課題2 score\n",
    "max と min をいつも通り出して、 総和からひきました。"
   ]
  },
  {
   "cell_type": "code",
   "execution_count": 4,
   "metadata": {
    "scrolled": true
   },
   "outputs": [
    {
     "name": "stderr",
     "output_type": "stream",
     "text": [
      "...\n",
      "----------------------------------------------------------------------\n",
      "Ran 3 tests in 0.002s\n",
      "\n",
      "OK\n"
     ]
    }
   ],
   "source": [
    "def score(a):\n",
    "    n = len(a)\n",
    "    max = a[0]\n",
    "    min = a[0]\n",
    "    for i in range(1,n):\n",
    "        if max<a[i]:\n",
    "            max = a[i]\n",
    "        if min > a[i]:\n",
    "            min = a[i]\n",
    "    \n",
    "    sum = 0\n",
    "    for i in range(n):\n",
    "        sum += a[i]\n",
    "    return sum - max - min\n",
    "\n",
    "import unittest\n",
    "class TestScore(unittest.TestCase):\n",
    "    def test_score(self):\n",
    "        self.assertEqual(score([1,8,9,4,5,6]), 23)\n",
    "\n",
    "if __name__=='__main__':\n",
    "    unittest.main(argv=['first-arg-is-ignored'], exit = False)"
   ]
  },
  {
   "cell_type": "markdown",
   "metadata": {},
   "source": [
    "# 課題3 digit_sum\n",
    "ループ不変条件を書くのが手間に感じました。しかし、多くのコードを書くようになるにつれ役にたつだろうと思うので、今のうちに学べて良かったと思いました。早く多くのコードをかけるプログラマになりたいです。"
   ]
  },
  {
   "cell_type": "code",
   "execution_count": 5,
   "metadata": {},
   "outputs": [
    {
     "name": "stderr",
     "output_type": "stream",
     "text": [
      "....\n",
      "----------------------------------------------------------------------\n",
      "Ran 4 tests in 0.003s\n",
      "\n",
      "OK\n"
     ]
    }
   ],
   "source": [
    "import math\n",
    "\n",
    "def digit_sum(n):\n",
    "    figure_length = math.floor(math.log10(n)) + 1\n",
    "    sum = 0\n",
    "    a=[]\n",
    "    for i in range(figure_length):\n",
    "        a.append( n % 10)\n",
    "        #この時点でnの(i+1)桁目の数がa[i]に入れられた\n",
    "        n = n // 10\n",
    "        #この時点でnの(i+2)桁目の数字が1桁目になった\n",
    "        sum += a[i]\n",
    "        #この時点でa[i](nの(i+1)桁目の数)がsumに加えられて、sumはa[0]~a[i]の和になった\n",
    "    return sum\n",
    "\n",
    "import unittest\n",
    "class TestDigitSum(unittest.TestCase):\n",
    "    def test_digit_sum(self):\n",
    "        self.assertEqual(digit_sum(43768), 28)\n",
    "if __name__ == '__main__':\n",
    "    unittest.main(argv=['first-arg-is-ignored'], exit = False)"
   ]
  },
  {
   "cell_type": "markdown",
   "metadata": {},
   "source": [
    "# 課題4 factor\n",
    "range(1,n+1)にするところが注意点だなと思いました。"
   ]
  },
  {
   "cell_type": "code",
   "execution_count": 6,
   "metadata": {},
   "outputs": [
    {
     "name": "stderr",
     "output_type": "stream",
     "text": [
      ".....\n",
      "----------------------------------------------------------------------\n",
      "Ran 5 tests in 0.002s\n",
      "\n",
      "OK\n"
     ]
    }
   ],
   "source": [
    "def factor(n):\n",
    "    a = []\n",
    "    for i in range(1,n+1):\n",
    "        if n % i == 0:\n",
    "            a += [i]\n",
    "    return a\n",
    "\n",
    "import unittest\n",
    "class TestFactor(unittest.TestCase):\n",
    "    def test_factor(self):\n",
    "        self.assertEqual(factor(15), [1,3,5,15])\n",
    "        \n",
    "if __name__ == '__main__':\n",
    "    unittest.main(argv=['first-arg-is-ignored'], exit = False)"
   ]
  },
  {
   "cell_type": "markdown",
   "metadata": {},
   "source": [
    "# 課題5 decrypt2\n",
    "4で割ったあまりに着目して書きました。"
   ]
  },
  {
   "cell_type": "code",
   "execution_count": 7,
   "metadata": {},
   "outputs": [
    {
     "name": "stderr",
     "output_type": "stream",
     "text": [
      "......\n",
      "----------------------------------------------------------------------\n",
      "Ran 6 tests in 0.003s\n",
      "\n",
      "OK\n"
     ]
    }
   ],
   "source": [
    "def decrypt2(s):\n",
    "    a = \"\"\n",
    "    b = \"\"\n",
    "    for i in range(len(s)//4):\n",
    "        a += s[4*i]\n",
    "        a += s[4*i+1]\n",
    "        b += s[4*i+2]\n",
    "        b += s[4*i+3]\n",
    "        #この時点で4*i+0,4*i+1の文字数目のところはaに入り、4*i+2,4*i+3の文字数目のところはbに入っている\n",
    "    return [a,b]\n",
    "\n",
    "import unittest\n",
    "class TestDecrypt2(unittest.TestCase):\n",
    "    def test_decrypt2(self):\n",
    "        self.assertEqual(decrypt2(\"ABEFCDGH\"), [\"ABCD\",\"EFGH\"])\n",
    "\n",
    "if __name__ == \"__main__\":\n",
    "    unittest.main(argv=['first-arg-is-ignored'],exit = False)\n",
    "        "
   ]
  },
  {
   "cell_type": "markdown",
   "metadata": {},
   "source": [
    "# 課題6 erace_ta\n",
    "for 文を使って、x[i:i+2] == \"ta\" のとき y に加えない、 それ以外 y に加える、　とやって、 \"ta\" のところに i がきたとき、 \"t\" は加わらないが、次 i が \"a\" の時に来るので、 \"a\" が y に加えられる、というのをどうしようかずっと考えていました。\n",
    "\n",
    "for を使うことをやめ、 while をつかって index を使えば、2つ文字を飛ばすようにすることで、 index が \"ta\" のところにきた時に、次に \"a\" のところにいかせず、その次の文字に行き、 \"ta\" が加えられないことに気付きました。これに気づくまでにかなりの時間を費やしました。"
   ]
  },
  {
   "cell_type": "code",
   "execution_count": 8,
   "metadata": {},
   "outputs": [
    {
     "name": "stderr",
     "output_type": "stream",
     "text": [
      "......\n",
      "----------------------------------------------------------------------\n",
      "Ran 6 tests in 0.003s\n",
      "\n",
      "OK\n"
     ]
    }
   ],
   "source": [
    "def erace_ta(x):\n",
    "    #x = x.replace(\"ta\",\"\")\n",
    "\n",
    "    index = 0\n",
    "    y = \"\"\n",
    "    \n",
    "    while(index < len(x)):\n",
    "        if x[index:index+2] == \"ta\":\n",
    "            y += \"\"\n",
    "            index += 2\n",
    "        else:\n",
    "            y += x[index]\n",
    "            index += 1\n",
    "            \n",
    "    return y\n",
    "\n",
    "\n",
    "import unittest\n",
    "class TestEraceTa(unittest.TestCase):\n",
    "    def test_erace_ta(self):\n",
    "        self.assertEqual(erace_ta(\"tatotauktayotauttao\"), \"toukyouto\")\n",
    "\n",
    "if __name__ == \"__main__\":\n",
    "    unittest.main(argv=['first-arg-is-ignored'], exit = False)"
   ]
  },
  {
   "cell_type": "code",
   "execution_count": null,
   "metadata": {},
   "outputs": [],
   "source": []
  },
  {
   "cell_type": "code",
   "execution_count": null,
   "metadata": {},
   "outputs": [],
   "source": []
  },
  {
   "cell_type": "code",
   "execution_count": null,
   "metadata": {},
   "outputs": [],
   "source": []
  },
  {
   "cell_type": "markdown",
   "metadata": {},
   "source": [
    "## テストコード"
   ]
  },
  {
   "cell_type": "code",
   "execution_count": null,
   "metadata": {},
   "outputs": [],
   "source": []
  },
  {
   "cell_type": "code",
   "execution_count": 3,
   "metadata": {},
   "outputs": [
    {
     "name": "stderr",
     "output_type": "stream",
     "text": [
      "..\n",
      "----------------------------------------------------------------------\n",
      "Ran 2 tests in 0.003s\n",
      "\n",
      "OK\n"
     ]
    }
   ],
   "source": [
    "import unittest\n",
    "\n",
    "class TestKadai(unittest.TestCase):\n",
    "    \n",
    "    def test_kadai1(self):\n",
    "        self.assertEqual(2, kadai1(1))\n",
    "        \n",
    "    def test_kadai2(self):\n",
    "        self.assertEqual(3, kadai2(1,2))\n",
    "\n",
    "if __name__ == '__main__':\n",
    "    unittest.main(argv=['first-arg-is-ignored'], exit=False)"
   ]
  }
 ],
 "metadata": {
  "kernelspec": {
   "display_name": "Python 3",
   "language": "python",
   "name": "python3"
  },
  "language_info": {
   "codemirror_mode": {
    "name": "ipython",
    "version": 3
   },
   "file_extension": ".py",
   "mimetype": "text/x-python",
   "name": "python",
   "nbconvert_exporter": "python",
   "pygments_lexer": "ipython3",
   "version": "3.7.3"
  }
 },
 "nbformat": 4,
 "nbformat_minor": 2
}
