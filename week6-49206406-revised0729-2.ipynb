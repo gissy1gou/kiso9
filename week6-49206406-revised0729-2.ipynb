{
 "cells": [
  {
   "cell_type": "markdown",
   "metadata": {},
   "source": [
    "# 第6回課題"
   ]
  },
  {
   "cell_type": "code",
   "execution_count": 36,
   "metadata": {},
   "outputs": [
    {
     "data": {
      "text/plain": [
       "[3, [1, [3, None, None], [5, None, None]], [2, None, None]]"
      ]
     },
     "execution_count": 36,
     "metadata": {},
     "output_type": "execute_result"
    }
   ],
   "source": [
    "def make_node(num, left,right):\n",
    "        return [num,left,right]\n",
    "\n",
    "def value(tree):\n",
    "    return tree[0]\n",
    "\n",
    "def left(tree):\n",
    "    return tree[1]\n",
    "\n",
    "def right(tree):\n",
    "    return tree[2]\n",
    "\n",
    "EmptyTree = None\n",
    "def is_empty(tree):\n",
    "    return tree == EmptyTree\n",
    "\n",
    "def make_leaf(num):\n",
    "    return make_node(num,EmptyTree,EmptyTree)\n",
    "\n",
    "t0 = make_leaf(2)\n",
    "\n",
    "t1 = make_node(1,make_leaf(3), make_leaf(5))\n",
    "\n",
    "t2 = make_node(3,t1,t0)\n",
    "\n",
    "\n"
   ]
  },
  {
   "cell_type": "markdown",
   "metadata": {},
   "source": [
    "# 課題1 max_value\n",
    "def max_value(t):\n",
    "    max_value = 0\n",
    "    if is_empty(t):\n",
    "        return 0\n",
    "    else:\n",
    "        if max_value < value(t):\n",
    "            max_value = value(t)\n",
    "        max_value(left(t))\n",
    "        max_value(right(t))\n",
    "        return max_value\n",
    "        \n",
    "のように、max()を使わずにやろうと思ったのですが、どうしてもうまくいかず、max()を使いました。"
   ]
  },
  {
   "cell_type": "code",
   "execution_count": 55,
   "metadata": {},
   "outputs": [],
   "source": [
    "def max_value(tree):\n",
    "    max_val = 0\n",
    "    if is_empty(tree):\n",
    "        return max_val\n",
    "    else:\n",
    "        return max(value(tree), max_value(left(tree)), max_value(right(tree)))"
   ]
  },
  {
   "cell_type": "markdown",
   "metadata": {},
   "source": [
    "# 課題2 inorder\n",
    "preorder, inorder で[value(tree)]の入れる場所を帰るというのが面白いなと思いました。"
   ]
  },
  {
   "cell_type": "code",
   "execution_count": 59,
   "metadata": {},
   "outputs": [],
   "source": [
    "def inorder(tree):\n",
    "    if is_empty(tree):\n",
    "        return []\n",
    "    else:\n",
    "        return inorder(left(tree)) + [value(tree)] +  inorder(right(tree))"
   ]
  },
  {
   "cell_type": "markdown",
   "metadata": {},
   "source": [
    "# 課題3 make_binary_search_tree\n",
    "add_nodeは分からなかったので調べたのですが、なぜこれでうまくいくのかわかりません。\n",
    "add_node(tree,x)の指し示す場所を左右にずらしていって、最終到着地点にxの葉を作るイメージでしょうか。"
   ]
  },
  {
   "cell_type": "code",
   "execution_count": 21,
   "metadata": {},
   "outputs": [],
   "source": [
    "def add_node(tree, x):\n",
    "    if is_empty(tree):\n",
    "        return make_leaf(x)\n",
    "    elif x < value(tree):\n",
    "        return make_node(value(tree), add_node(left(tree),x), right(tree))\n",
    "    else:\n",
    "        return make_node(value(tree), left(tree), add_node(right(tree), x))"
   ]
  },
  {
   "cell_type": "code",
   "execution_count": 22,
   "metadata": {},
   "outputs": [],
   "source": [
    "def make_binary_search_tree(a):\n",
    "    tree = EmptyTree\n",
    "    for i in range(len(a)):\n",
    "        tree = add_node(tree,a[i])\n",
    "    return tree"
   ]
  },
  {
   "cell_type": "markdown",
   "metadata": {},
   "source": [
    "# 課題４ Q&A\n",
    "木の作り方をもっとスマートにできないかなと思った。"
   ]
  },
  {
   "cell_type": "code",
   "execution_count": 23,
   "metadata": {},
   "outputs": [],
   "source": [
    "def make_question_node(question, yes_branch, no_branch):\n",
    "    return [question, yes_branch, no_branch]"
   ]
  },
  {
   "cell_type": "code",
   "execution_count": 24,
   "metadata": {},
   "outputs": [],
   "source": [
    "def question_text(qnode):\n",
    "    return qnode[0]\n",
    "    "
   ]
  },
  {
   "cell_type": "code",
   "execution_count": 25,
   "metadata": {},
   "outputs": [],
   "source": [
    "def question_yes(qnode):\n",
    "    return qnode[1]\n"
   ]
  },
  {
   "cell_type": "code",
   "execution_count": 26,
   "metadata": {},
   "outputs": [],
   "source": [
    "def question_no(qnode):\n",
    "    return qnode[2]"
   ]
  },
  {
   "cell_type": "code",
   "execution_count": 27,
   "metadata": {},
   "outputs": [],
   "source": [
    "def make_answer_node(answer):\n",
    "    return answer"
   ]
  },
  {
   "cell_type": "code",
   "execution_count": 28,
   "metadata": {},
   "outputs": [],
   "source": [
    "def answer_text(anode):\n",
    "    return anode\n",
    "    "
   ]
  },
  {
   "cell_type": "code",
   "execution_count": 29,
   "metadata": {},
   "outputs": [],
   "source": [
    "def is_question_node(node):\n",
    "    return type(node) == list"
   ]
  },
  {
   "cell_type": "code",
   "execution_count": 30,
   "metadata": {},
   "outputs": [],
   "source": [
    "def display(node):\n",
    "    if is_question_node(node):\n",
    "        print(\"Q: \"+ question_text(node)+ \" ? [yn]\")\n",
    "        yn = input()\n",
    "        if yn.lower()[0] == \"y\":\n",
    "            display(question_yes(node))\n",
    "        else:\n",
    "            display(question_no(node))\n",
    "    else:\n",
    "        print(\"---\")\n",
    "        print(\"Answer: \" + answer_text(node))"
   ]
  },
  {
   "cell_type": "code",
   "execution_count": 12,
   "metadata": {},
   "outputs": [],
   "source": [
    "gakusai = make_question_node(\"駒場の理系\", \n",
    "                                       make_question_node(\"学際科学科所属\",\n",
    "                                                                                make_question_node(\"この授業は必修\",\n",
    "                                                                                                                        make_answer_node(\"総合分析情報学コース\"),\n",
    "                                                                                                                        make_answer_node(\"広域システムコース\")),\n",
    "                                                                                make_answer_node(\"統合自然科学科\")),\n",
    "                                       make_answer_node(\"本郷生 or 文系\"))"
   ]
  },
  {
   "cell_type": "code",
   "execution_count": 14,
   "metadata": {},
   "outputs": [
    {
     "name": "stdout",
     "output_type": "stream",
     "text": [
      "Q: 駒場の理系 ? [yn]\n",
      "y\n",
      "Q: 学際科学科所属 ? [yn]\n",
      "y\n",
      "Q: この授業は必修 ? [yn]\n",
      "n\n",
      "---\n",
      "Answer: 広域システムコース\n"
     ]
    }
   ],
   "source": [
    "display(gakusai)"
   ]
  },
  {
   "cell_type": "markdown",
   "metadata": {},
   "source": [
    "# 課題5 calc\n",
    "/ のときは割る数!=0\n",
    "というのを忘れないように気をつけました。\n",
    "\"+\" などと一つ一つ文字列として入力される文字に合わせた形にしないといけないのが面倒に思いました。"
   ]
  },
  {
   "cell_type": "code",
   "execution_count": 15,
   "metadata": {},
   "outputs": [],
   "source": [
    "def calc(tree):\n",
    "    if type(value(tree)) == int:\n",
    "        return value(tree)\n",
    "    else:\n",
    "        if value(tree) == \"+\":\n",
    "            return calc(left(tree)) + calc(right(tree))\n",
    "        elif value(tree) == \"-\":\n",
    "            return calc(left(tree)) - calc(right(tree))\n",
    "        elif value(tree) == \"*\":\n",
    "            return calc(left(tree)) * calc(right(tree))\n",
    "        elif value(tree) == \"/\":\n",
    "            if value(right(tree)) == 0:\n",
    "                return \"error\"\n",
    "            else:\n",
    "                return calc(left(tree)) / calc(right(tree))\n",
    "        #/ のときは割る数!=0"
   ]
  },
  {
   "cell_type": "code",
   "execution_count": null,
   "metadata": {},
   "outputs": [],
   "source": []
  },
  {
   "cell_type": "markdown",
   "metadata": {},
   "source": [
    "# 課題6 Node\n",
    "今までやったことを盛り込みました"
   ]
  },
  {
   "cell_type": "code",
   "execution_count": 16,
   "metadata": {},
   "outputs": [],
   "source": [
    "class Node:\n",
    "    def __init__(self,num,left,right):\n",
    "        self.tree = [num,left,right]\n",
    "        self.num = num\n",
    "        self.left = left\n",
    "        self.right = right\n",
    "     \n",
    "    def make_node(self,num,left,right):\n",
    "        return Node(num, left, right)\n",
    "    \n",
    "    def value(self,tree):\n",
    "        return tree.value\n",
    "    \n",
    "    def left(self,tree):\n",
    "        return tree.left\n",
    "    \n",
    "    def right(self,tree):\n",
    "        return tree.right\n",
    "\n",
    "    EmptyTree = None\n",
    "    def is_empty(self,tree):\n",
    "        return tree == EmptyTree\n",
    "\n",
    "    def make_leaf(self,num):\n",
    "        return make_node(self, num,EmptyTree,EmptyTree)\n"
   ]
  },
  {
   "cell_type": "code",
   "execution_count": null,
   "metadata": {},
   "outputs": [],
   "source": []
  },
  {
   "cell_type": "markdown",
   "metadata": {},
   "source": [
    "## テストコード"
   ]
  },
  {
   "cell_type": "code",
   "execution_count": 58,
   "metadata": {},
   "outputs": [
    {
     "name": "stderr",
     "output_type": "stream",
     "text": [
      "...\n",
      "----------------------------------------------------------------------\n",
      "Ran 3 tests in 0.002s\n",
      "\n",
      "OK\n"
     ]
    }
   ],
   "source": [
    "import unittest\n",
    "\n",
    "def make_node(num, left,right):\n",
    "        return [num,left,right]\n",
    "\n",
    "def value(tree):\n",
    "    return tree[0]\n",
    "\n",
    "def left(tree):\n",
    "    return tree[1]\n",
    "\n",
    "def right(tree):\n",
    "    return tree[2]\n",
    "\n",
    "EmptyTree = None\n",
    "def is_empty(tree):\n",
    "    return tree == EmptyTree\n",
    "\n",
    "def make_leaf(num):\n",
    "    return make_node(num,EmptyTree,EmptyTree)\n",
    "\n",
    "t0 = make_leaf(2)\n",
    "t0\n",
    "\n",
    "t1 = make_node(1,make_leaf(3), make_leaf(5))\n",
    "t1\n",
    "\n",
    "t2 = make_node(3,t1,t0)\n",
    "t2\n",
    "\n",
    "\n",
    "\n",
    "\n",
    "class TestKadai(unittest.TestCase):\n",
    "    \n",
    "    \n",
    "    def test_max_value(self):\n",
    "        self.assertEqual(2, max_value(t0))\n",
    "        self.assertEqual(5, max_value(t1))\n",
    "        self.assertEqual(5, max_value(t2))\n",
    "\n",
    "        \n",
    "    def test_inorder(self):\n",
    "        t = make_binary_search_tree([3,1,6,1,7,9,2,0,5])\n",
    "        \n",
    "        self.assertEqual([2], inorder(t0))\n",
    "        self.assertEqual([3, 1, 5], inorder(t1))\n",
    "        self.assertEqual([3, 1, 5, 3, 2], inorder(t2))\n",
    "        self.assertEqual([0, 1, 1, 2, 3, 5, 6, 7, 9], inorder(t))\n",
    "        \n",
    "    def test_make_binary_search_tree(self):\n",
    "        t = make_binary_search_tree([3,1,6,1,7,9,2,0,5])\n",
    "        self.assertEqual([3,\n",
    "                                     [1, [0, None, None], [1, None, [2, None, None]]],\n",
    "                                     [6, [5, None, None], [7, None, [9, None, None]]]],\n",
    "                         \n",
    "                                     make_binary_search_tree([3,1,6,1,7,9,2,0,5]))    \n",
    "        \n",
    "   \n",
    "    \n",
    "    def calc(self):\n",
    "        t = make_node (\"+\", make_node(\"*\", make_leaf(3), make_leaf(5)), make_leaf(2))\n",
    "\n",
    "        self.assertEqual(17, calc(t))\n",
    "\n",
    "\n",
    "\n",
    "if __name__ == '__main__':\n",
    "    unittest.main(argv=['first-arg-is-ignored'], exit=False)"
   ]
  },
  {
   "cell_type": "code",
   "execution_count": null,
   "metadata": {},
   "outputs": [],
   "source": []
  },
  {
   "cell_type": "code",
   "execution_count": null,
   "metadata": {},
   "outputs": [],
   "source": []
  },
  {
   "cell_type": "code",
   "execution_count": null,
   "metadata": {},
   "outputs": [],
   "source": []
  },
  {
   "cell_type": "code",
   "execution_count": null,
   "metadata": {},
   "outputs": [],
   "source": []
  },
  {
   "cell_type": "markdown",
   "metadata": {},
   "source": [
    "例題など"
   ]
  },
  {
   "cell_type": "code",
   "execution_count": 2,
   "metadata": {},
   "outputs": [
    {
     "data": {
      "text/plain": [
       "5"
      ]
     },
     "execution_count": 2,
     "metadata": {},
     "output_type": "execute_result"
    }
   ],
   "source": [
    "def make_node(num, left,right):\n",
    "    return [num,left,right]\n",
    "\n",
    "def value(tree):\n",
    "    return tree[0]\n",
    "\n",
    "def left(tree):\n",
    "    return tree[1]\n",
    "\n",
    "def right(tree):\n",
    "    return tree[2]\n",
    "\n",
    "EmptyTree = None\n",
    "def is_empty(tree):\n",
    "    return tree == EmptyTree\n",
    "\n",
    "def make_leaf(num):\n",
    "    return make_node(num,EmptyTree,EmptyTree)\n",
    "\n",
    "t0 = make_leaf(2)\n",
    "t0\n",
    "\n",
    "t1 = make_node(1,make_leaf(3), make_leaf(5))\n",
    "t1\n",
    "\n",
    "t2 = make_node(3,t1,t0)\n",
    "t2\n",
    "\n",
    "value(right(left(t2)))"
   ]
  },
  {
   "cell_type": "code",
   "execution_count": 3,
   "metadata": {},
   "outputs": [
    {
     "data": {
      "text/plain": [
       "5"
      ]
     },
     "execution_count": 3,
     "metadata": {},
     "output_type": "execute_result"
    }
   ],
   "source": [
    "def count_node(t):\n",
    "    if is_empty(t):\n",
    "        return 0\n",
    "    else:\n",
    "        return 1 + count_node(left(t)) + count_node(right(t))\n",
    "    \n",
    "count_node(t2)    \n"
   ]
  },
  {
   "cell_type": "code",
   "execution_count": 4,
   "metadata": {},
   "outputs": [
    {
     "data": {
      "text/plain": [
       "14"
      ]
     },
     "execution_count": 4,
     "metadata": {},
     "output_type": "execute_result"
    }
   ],
   "source": [
    "def sum_node(t):\n",
    "    if is_empty(t):\n",
    "        return 0\n",
    "    else:\n",
    "        return value(t) + sum_node(left(t)) + sum_node(right(t))\n",
    "    \n",
    "sum_node(t2)"
   ]
  },
  {
   "cell_type": "code",
   "execution_count": 5,
   "metadata": {},
   "outputs": [
    {
     "ename": "NameError",
     "evalue": "name '節点の持つ値の最大値' is not defined",
     "output_type": "error",
     "traceback": [
      "\u001b[0;31m---------------------------------------------------------------------------\u001b[0m",
      "\u001b[0;31mNameError\u001b[0m                                 Traceback (most recent call last)",
      "\u001b[0;32m<ipython-input-5-2873c6f40e58>\u001b[0m in \u001b[0;36m<module>\u001b[0;34m\u001b[0m\n\u001b[0;32m----> 1\u001b[0;31m \u001b[0m節点の持つ値の最大値\u001b[0m\u001b[0;34m\u001b[0m\u001b[0;34m\u001b[0m\u001b[0m\n\u001b[0m",
      "\u001b[0;31mNameError\u001b[0m: name '節点の持つ値の最大値' is not defined"
     ]
    }
   ],
   "source": [
    "節点の持つ値の最大値"
   ]
  },
  {
   "cell_type": "code",
   "execution_count": 6,
   "metadata": {},
   "outputs": [],
   "source": [
    "def max_value(t):\n",
    "    if is_empty(t):\n",
    "        return 0\n",
    "    else:\n",
    "        if maxValue < value(t):\n",
    "            max_value = value(t)\n",
    "        max_value(left(t))\n",
    "        maxvalue(right(t))\n",
    "        return max_value\n",
    "            "
   ]
  },
  {
   "cell_type": "code",
   "execution_count": 7,
   "metadata": {},
   "outputs": [
    {
     "name": "stderr",
     "output_type": "stream",
     "text": [
      "\n",
      "----------------------------------------------------------------------\n",
      "Ran 0 tests in 0.000s\n",
      "\n",
      "OK\n"
     ]
    }
   ],
   "source": [
    "import unittest\n",
    "\n",
    "class MaxValue(unittest.TestCase):\n",
    "    \n",
    "    def max_value(self):\n",
    "        self.assertEqual(2, max_value(t0))\n",
    "        \n",
    "    def max_value(self):\n",
    "        self.assertEqual(5, max_value(t1))\n",
    "        \n",
    "    def max_value(self):\n",
    "        self.assertEqual(5, max_value(t2))\n",
    "\n",
    "if __name__ == '__main__':\n",
    "    unittest.main(argv=['first-arg-is-ignored'], exit=False)"
   ]
  },
  {
   "cell_type": "code",
   "execution_count": 8,
   "metadata": {},
   "outputs": [],
   "source": [
    "def depth(t):\n",
    "    if is_empty(t):\n",
    "        return 0\n",
    "    elif depth(left(t)) == 0 and depth(right) == 0:\n",
    "        depth += 1\n",
    "    elif depth(right(t)) == 0:\n",
    "        depth =1 + depth(left(t))\n",
    "    elif depth(left(t)) == 0:\n",
    "        depth = 1 + depth(right(t))\n",
    "    else:\n",
    "        if depth(left(t)) <= depth(right(t)):\n",
    "            depth = 1 + depth(right(t))\n",
    "        else:\n",
    "            depth = 1 + depth(left(t))\n",
    "            "
   ]
  },
  {
   "cell_type": "code",
   "execution_count": 9,
   "metadata": {},
   "outputs": [
    {
     "name": "stderr",
     "output_type": "stream",
     "text": [
      "\n",
      "----------------------------------------------------------------------\n",
      "Ran 0 tests in 0.000s\n",
      "\n",
      "OK\n"
     ]
    }
   ],
   "source": [
    "import unittest\n",
    "\n",
    "class Depth(unittest.TestCase):\n",
    "    \n",
    "    def depth(self):\n",
    "        self.assertEqual(1, depth(t0))\n",
    "        \n",
    "    def depth(self):\n",
    "        self.assertEqual(2, depth(t1))\n",
    "        \n",
    "    def depth(self):\n",
    "        self.assertEqual(3, depth(t2))\n",
    "\n",
    "if __name__ == '__main__':\n",
    "    unittest.main(argv=['first-arg-is-ignored'], exit=False)"
   ]
  },
  {
   "cell_type": "code",
   "execution_count": 10,
   "metadata": {},
   "outputs": [],
   "source": [
    "def preorder(tree):\n",
    "    if is_empty(tree):\n",
    "        return []\n",
    "    else:\n",
    "        return [value(tree)] + preorder(left(tree)) + preorder(right(tree))"
   ]
  },
  {
   "cell_type": "code",
   "execution_count": 11,
   "metadata": {},
   "outputs": [
    {
     "data": {
      "text/plain": [
       "[2]"
      ]
     },
     "execution_count": 11,
     "metadata": {},
     "output_type": "execute_result"
    }
   ],
   "source": [
    "preorder(t0)"
   ]
  },
  {
   "cell_type": "code",
   "execution_count": 12,
   "metadata": {},
   "outputs": [
    {
     "data": {
      "text/plain": [
       "[1, 3, 5]"
      ]
     },
     "execution_count": 12,
     "metadata": {},
     "output_type": "execute_result"
    }
   ],
   "source": [
    "preorder(t1)"
   ]
  },
  {
   "cell_type": "code",
   "execution_count": 13,
   "metadata": {},
   "outputs": [
    {
     "data": {
      "text/plain": [
       "[3, 1, 3, 5, 2]"
      ]
     },
     "execution_count": 13,
     "metadata": {},
     "output_type": "execute_result"
    }
   ],
   "source": [
    "preorder(t2)"
   ]
  },
  {
   "cell_type": "code",
   "execution_count": 14,
   "metadata": {},
   "outputs": [],
   "source": [
    "def inorder(tree):\n",
    "    if is_empty(tree):\n",
    "        return []\n",
    "    else:\n",
    "        return inorder(left(tree)) + [value(tree)] +  inorder(right(tree))"
   ]
  },
  {
   "cell_type": "code",
   "execution_count": 15,
   "metadata": {},
   "outputs": [
    {
     "data": {
      "text/plain": [
       "[2]"
      ]
     },
     "execution_count": 15,
     "metadata": {},
     "output_type": "execute_result"
    }
   ],
   "source": [
    "inorder(t0)"
   ]
  },
  {
   "cell_type": "code",
   "execution_count": 16,
   "metadata": {},
   "outputs": [
    {
     "data": {
      "text/plain": [
       "[3, 1, 5]"
      ]
     },
     "execution_count": 16,
     "metadata": {},
     "output_type": "execute_result"
    }
   ],
   "source": [
    "inorder(t1)"
   ]
  },
  {
   "cell_type": "code",
   "execution_count": 17,
   "metadata": {},
   "outputs": [
    {
     "data": {
      "text/plain": [
       "[3, 1, 5, 3, 2]"
      ]
     },
     "execution_count": 17,
     "metadata": {},
     "output_type": "execute_result"
    }
   ],
   "source": [
    "inorder(t2)"
   ]
  },
  {
   "cell_type": "code",
   "execution_count": 24,
   "metadata": {},
   "outputs": [],
   "source": [
    "##ヒント:make node などを使う必要がある."
   ]
  },
  {
   "cell_type": "code",
   "execution_count": 63,
   "metadata": {},
   "outputs": [],
   "source": [
    "def add_node(tree, x):\n",
    "    if is_empty(tree):\n",
    "        return make_leaf(x)\n",
    "    elif x < value(tree):\n",
    "        return make_node(value(tree), add_node(left(tree),x), right(tree))\n",
    "    else:\n",
    "        return make_node(value(tree), left(tree), add_node(right(tree), x))"
   ]
  },
  {
   "cell_type": "markdown",
   "metadata": {},
   "source": [
    "#add_nodeは分からなかったので調べたのですが、なぜこれでうまくいくのかわかりません。\n",
    "add_node(tree,x)の指し示す場所を左右にずらしていって、最終到着地点にxの葉を作るイメージでしょうか。"
   ]
  },
  {
   "cell_type": "code",
   "execution_count": 64,
   "metadata": {},
   "outputs": [],
   "source": [
    "def make_binary_search_tree(a):\n",
    "    tree = EmptyTree\n",
    "    for i in range(len(a)):\n",
    "        tree = add_node(tree,a[i])\n",
    "    return tree"
   ]
  },
  {
   "cell_type": "code",
   "execution_count": 65,
   "metadata": {},
   "outputs": [],
   "source": [
    "t = make_binary_search_tree([3,1,6,1,7,9,2,0,5])"
   ]
  },
  {
   "cell_type": "code",
   "execution_count": 66,
   "metadata": {},
   "outputs": [
    {
     "data": {
      "text/plain": [
       "[3,\n",
       " [1, [0, None, None], [1, None, [2, None, None]]],\n",
       " [6, [5, None, None], [7, None, [9, None, None]]]]"
      ]
     },
     "execution_count": 66,
     "metadata": {},
     "output_type": "execute_result"
    }
   ],
   "source": [
    "t"
   ]
  },
  {
   "cell_type": "code",
   "execution_count": 67,
   "metadata": {},
   "outputs": [
    {
     "data": {
      "text/plain": [
       "[0, 1, 1, 2, 3, 5, 6, 7, 9]"
      ]
     },
     "execution_count": 67,
     "metadata": {},
     "output_type": "execute_result"
    }
   ],
   "source": [
    "inorder(t)"
   ]
  },
  {
   "cell_type": "code",
   "execution_count": 68,
   "metadata": {},
   "outputs": [],
   "source": [
    "def make_binary_search_tree(a):\n",
    "    tree = None\n",
    "    for i in range(len(a)):\n",
    "        tree = add_node(tree, a[i])\n",
    "    return tree"
   ]
  },
  {
   "cell_type": "code",
   "execution_count": 69,
   "metadata": {},
   "outputs": [],
   "source": [
    "t = make_binary_search_tree([3,1,6,2,7,9,2,0,5])"
   ]
  },
  {
   "cell_type": "code",
   "execution_count": 70,
   "metadata": {},
   "outputs": [
    {
     "data": {
      "text/plain": [
       "[3,\n",
       " [1, [0, None, None], [2, None, [2, None, None]]],\n",
       " [6, [5, None, None], [7, None, [9, None, None]]]]"
      ]
     },
     "execution_count": 70,
     "metadata": {},
     "output_type": "execute_result"
    }
   ],
   "source": [
    "t"
   ]
  },
  {
   "cell_type": "code",
   "execution_count": 71,
   "metadata": {},
   "outputs": [
    {
     "data": {
      "text/plain": [
       "[0, 1, 2, 2, 3, 5, 6, 7, 9]"
      ]
     },
     "execution_count": 71,
     "metadata": {},
     "output_type": "execute_result"
    }
   ],
   "source": [
    "inorder(t)"
   ]
  },
  {
   "cell_type": "code",
   "execution_count": 73,
   "metadata": {},
   "outputs": [],
   "source": [
    "def make_question_node(question, yes_branch, no_branch):\n",
    "    return [question, yes_branch, no_branch]"
   ]
  },
  {
   "cell_type": "code",
   "execution_count": 74,
   "metadata": {},
   "outputs": [],
   "source": [
    "def question_text(qnode):\n",
    "    return qnode[0]\n",
    "    "
   ]
  },
  {
   "cell_type": "code",
   "execution_count": 75,
   "metadata": {},
   "outputs": [],
   "source": [
    "def question_yes(qnode):\n",
    "    return qnode[1]\n"
   ]
  },
  {
   "cell_type": "code",
   "execution_count": 76,
   "metadata": {},
   "outputs": [],
   "source": [
    "def question_no(qnode):\n",
    "    return qnode[2]"
   ]
  },
  {
   "cell_type": "code",
   "execution_count": 77,
   "metadata": {},
   "outputs": [],
   "source": [
    "def make_answer_node(answer):\n",
    "    return answer"
   ]
  },
  {
   "cell_type": "code",
   "execution_count": 78,
   "metadata": {},
   "outputs": [],
   "source": [
    "def answer_text(anode):\n",
    "    return anode\n",
    "    "
   ]
  },
  {
   "cell_type": "code",
   "execution_count": 79,
   "metadata": {},
   "outputs": [],
   "source": [
    "def is_question_node(node):\n",
    "    return type(node) == list"
   ]
  },
  {
   "cell_type": "code",
   "execution_count": 80,
   "metadata": {},
   "outputs": [],
   "source": [
    "def display(node):\n",
    "    if is_question_node(node):\n",
    "        print(\"Q: \"+ question_text(node)+ \" ? [yn]\")\n",
    "        yn = input()\n",
    "        if yn.lower()[0] == \"y\":\n",
    "            display(question_yes(node))\n",
    "        else:\n",
    "            display(question_no(node))\n",
    "    else:\n",
    "        print(\"---\")\n",
    "        print(\"Answer: \" + answer_text(node))"
   ]
  },
  {
   "cell_type": "code",
   "execution_count": 84,
   "metadata": {},
   "outputs": [],
   "source": [
    "gakusai = make_question_node(\"駒場の理系\", \n",
    "                                       make_question_node(\"学際科学科所属\",\n",
    "                                                                                make_question_node(\"この授業は必修\",\n",
    "                                                                                                                        make_answer_node(\"総合分析情報学コース\"),\n",
    "                                                                                                                        make_answer_node(\"広域システムコース\")),\n",
    "                                                                                make_answer_node(\"統合自然科学科\")),\n",
    "                                       make_answer_node(\"本郷生 or 文系\"))\n",
    "                   "
   ]
  },
  {
   "cell_type": "code",
   "execution_count": 85,
   "metadata": {},
   "outputs": [
    {
     "name": "stdout",
     "output_type": "stream",
     "text": [
      "Q: 駒場の理系 ? [yn]\n",
      "y\n",
      "Q: 学際科学科所属 ? [yn]\n",
      "y\n",
      "Q: この授業は必修 ? [yn]\n",
      "n\n",
      "---\n",
      "Answer: 広域システムコース\n"
     ]
    }
   ],
   "source": [
    "display(gakusai)"
   ]
  },
  {
   "cell_type": "markdown",
   "metadata": {},
   "source": [
    "木の作り方をもっとスマートにできないかなと思った。"
   ]
  },
  {
   "cell_type": "code",
   "execution_count": 91,
   "metadata": {},
   "outputs": [],
   "source": [
    "def calc(tree):\n",
    "    if type(value(tree)) == int:\n",
    "        return value(tree)\n",
    "    else:\n",
    "        if value(tree) == \"+\":\n",
    "            return calc(left(tree)) + calc(right(tree))\n",
    "        elif value(tree) == \"-\":\n",
    "            return calc(left(tree)) - calc(right(tree))\n",
    "        elif value(tree) == \"*\":\n",
    "            return calc(left(tree)) * calc(right(tree))\n",
    "        elif value(tree) == \"/\":\n",
    "            if value(right(tree)) == 0:\n",
    "                return \"error\"\n",
    "            else:\n",
    "                return calc(left(tree)) / calc(right(tree))\n",
    "        #/ のときは割る数!=0"
   ]
  },
  {
   "cell_type": "code",
   "execution_count": 92,
   "metadata": {},
   "outputs": [
    {
     "data": {
      "text/plain": [
       "['+', ['*', [3, None, None], [5, None, None]], [2, None, None]]"
      ]
     },
     "execution_count": 92,
     "metadata": {},
     "output_type": "execute_result"
    }
   ],
   "source": [
    "t = make_node (\"+\", make_node(\"*\", make_leaf(3), make_leaf(5)), make_leaf(2))\n",
    "t"
   ]
  },
  {
   "cell_type": "code",
   "execution_count": 93,
   "metadata": {
    "scrolled": true
   },
   "outputs": [
    {
     "data": {
      "text/plain": [
       "17"
      ]
     },
     "execution_count": 93,
     "metadata": {},
     "output_type": "execute_result"
    }
   ],
   "source": [
    "calc(t)"
   ]
  },
  {
   "cell_type": "code",
   "execution_count": 96,
   "metadata": {},
   "outputs": [],
   "source": [
    "class Node:\n",
    "    def __init__(self,num,left,right):\n",
    "        self.tree = [num,left,right]\n",
    "        self.num = num\n",
    "        self.left = left\n",
    "        self.right = right\n",
    "     \n",
    "    def make_node(self,num,left,right):\n",
    "        return Node(num, left, right)\n",
    "    \n",
    "    def value(self,tree):\n",
    "        return tree.value\n",
    "    \n",
    "    def left(self,tree):\n",
    "        return tree.left\n",
    "    \n",
    "    def right(self,tree):\n",
    "        return tree.right\n",
    "\n",
    "    EmptyTree = None\n",
    "    def is_empty(self,tree):\n",
    "        return tree == EmptyTree\n",
    "\n",
    "    def make_leaf(self,num):\n",
    "        return make_node(self, num,EmptyTree,EmptyTree)\n"
   ]
  },
  {
   "cell_type": "markdown",
   "metadata": {},
   "source": [
    "分からなかったので保留"
   ]
  },
  {
   "cell_type": "code",
   "execution_count": null,
   "metadata": {},
   "outputs": [],
   "source": []
  },
  {
   "cell_type": "code",
   "execution_count": null,
   "metadata": {},
   "outputs": [],
   "source": []
  },
  {
   "cell_type": "code",
   "execution_count": null,
   "metadata": {},
   "outputs": [],
   "source": []
  },
  {
   "cell_type": "code",
   "execution_count": null,
   "metadata": {},
   "outputs": [],
   "source": []
  },
  {
   "cell_type": "code",
   "execution_count": null,
   "metadata": {},
   "outputs": [],
   "source": []
  },
  {
   "cell_type": "code",
   "execution_count": null,
   "metadata": {},
   "outputs": [],
   "source": []
  },
  {
   "cell_type": "code",
   "execution_count": null,
   "metadata": {},
   "outputs": [],
   "source": []
  },
  {
   "cell_type": "markdown",
   "metadata": {},
   "source": [
    "## 課題2\n",
    "コメントコメントコメント\n",
    "\n",
    "感想感想感想"
   ]
  },
  {
   "cell_type": "code",
   "execution_count": 2,
   "metadata": {
    "collapsed": true
   },
   "outputs": [],
   "source": [
    "def kadai2(x, y):\n",
    "    return x+y"
   ]
  },
  {
   "cell_type": "markdown",
   "metadata": {},
   "source": [
    "## テストコード"
   ]
  },
  {
   "cell_type": "code",
   "execution_count": 3,
   "metadata": {},
   "outputs": [
    {
     "name": "stderr",
     "output_type": "stream",
     "text": [
      "..\n",
      "----------------------------------------------------------------------\n",
      "Ran 2 tests in 0.003s\n",
      "\n",
      "OK\n"
     ]
    }
   ],
   "source": [
    "import unittest\n",
    "\n",
    "class TestKadai(unittest.TestCase):\n",
    "    \n",
    "    def test_kadai1(self):\n",
    "        self.assertEqual(2, kadai1(1))\n",
    "        \n",
    "    def test_kadai2(self):\n",
    "        self.assertEqual(3, kadai2(1,2))\n",
    "\n",
    "if __name__ == '__main__':\n",
    "    unittest.main(argv=['first-arg-is-ignored'], exit=False)"
   ]
  }
 ],
 "metadata": {
  "kernelspec": {
   "display_name": "Python 3",
   "language": "python",
   "name": "python3"
  },
  "language_info": {
   "codemirror_mode": {
    "name": "ipython",
    "version": 3
   },
   "file_extension": ".py",
   "mimetype": "text/x-python",
   "name": "python",
   "nbconvert_exporter": "python",
   "pygments_lexer": "ipython3",
   "version": "3.7.3"
  }
 },
 "nbformat": 4,
 "nbformat_minor": 2
}
