{
 "cells": [
  {
   "cell_type": "markdown",
   "metadata": {},
   "source": [
    "# 第1回課題"
   ]
  },
  {
   "cell_type": "markdown",
   "metadata": {},
   "source": [
    "## 課題1\n",
    "間隔を揃えようと思ったのですが、揃いませんでした。\n",
    "空白の幅と文字の幅がそれぞれ違うのかなと思い、それが原因だと思うのですが、\n",
    "jupiter notebookではこうなってしまうのは仕方ないことなのでしょうか。"
   ]
  },
  {
   "cell_type": "code",
   "execution_count": 10,
   "metadata": {},
   "outputs": [
    {
     "name": "stdout",
     "output_type": "stream",
     "text": [
      "  1  2  3  4  5  6  7  8  9\n",
      "  2  4  6  8 10 12 14 16 18\n",
      "  3  6  9 12 15 18 21 24 27\n",
      "  4  8 12 16 20 24 28 32 36\n",
      "  5 10 15 20 25 30 35 40 45\n",
      "  6 12 18 24 30 36 42 48 54\n",
      "  7 14 21 28 35 42 49 56 63\n",
      "  8 16 24 32 40 48 56 64 72\n",
      "  9 18 27 36 45 54 63 72 81\n"
     ]
    }
   ],
   "source": [
    "# コードはコード用のセルで書く\n",
    "def p99():\n",
    "    for i in range(1, 10):\n",
    "        for j in range(1,10):\n",
    "            print(\"{0:3d}\".format(i * j) ,end = \"\")\n",
    "        print()\n",
    "\n",
    "p99()\n"
   ]
  },
  {
   "cell_type": "markdown",
   "metadata": {},
   "source": [
    "## 課題2\n",
    "最後のtriangle2()がないと結果が表示されず、triangle2()とつけることに気がつくまでに時間がかかりました。"
   ]
  },
  {
   "cell_type": "code",
   "execution_count": 9,
   "metadata": {},
   "outputs": [
    {
     "name": "stdout",
     "output_type": "stream",
     "text": [
      "****\n",
      "***\n",
      "**\n",
      "*\n"
     ]
    }
   ],
   "source": [
    "def triangle2(N):\n",
    "    for i in range(N):\n",
    "        for j in range(N-i):\n",
    "            print(\"*\", end=\"\")\n",
    "        print()\n",
    "        \n",
    "triangle2(4)\n",
    "\n",
    "\n",
    "\n"
   ]
  },
  {
   "cell_type": "markdown",
   "metadata": {},
   "source": [
    "## 課題３\n",
    "木の部分と幹の部分の中心がずれるのですが、直し方がわからなかったです。"
   ]
  },
  {
   "cell_type": "code",
   "execution_count": 7,
   "metadata": {},
   "outputs": [
    {
     "name": "stdout",
     "output_type": "stream",
     "text": [
      "      *      \n",
      "    ***    \n",
      "  *****  \n",
      "*******\n",
      "      *      \n",
      "      *      \n",
      "      *      \n"
     ]
    }
   ],
   "source": [
    "def arrow(N):\n",
    "    \n",
    "    for i in range(N+1):\n",
    "        for j in range(2*N+1):\n",
    "            if N-i<=j<=N+i:\n",
    "                print(\"*\", end = \"\")\n",
    "            else:\n",
    "                print(\"  \", end=\"\")\n",
    "        print()\n",
    "    for i in range(N):\n",
    "        for j in range(2*N+1):\n",
    "            if j == N:\n",
    "                print(\"*\", end=\"\")\n",
    "            else:\n",
    "                print(\"  \", end=\"\")\n",
    "        print()\n",
    "        \n",
    "arrow(3)"
   ]
  },
  {
   "cell_type": "markdown",
   "metadata": {},
   "source": [
    "## 課題４\n",
    "\n",
    "木を横に並べていくやり方がわからなかったです。"
   ]
  },
  {
   "cell_type": "code",
   "execution_count": 6,
   "metadata": {},
   "outputs": [
    {
     "ename": "SyntaxError",
     "evalue": "invalid syntax (<ipython-input-6-cdf75921776e>, line 1)",
     "output_type": "error",
     "traceback": [
      "\u001b[0;36m  File \u001b[0;32m\"<ipython-input-6-cdf75921776e>\"\u001b[0;36m, line \u001b[0;32m1\u001b[0m\n\u001b[0;31m    def forest(A[]):\u001b[0m\n\u001b[0m                ^\u001b[0m\n\u001b[0;31mSyntaxError\u001b[0m\u001b[0;31m:\u001b[0m invalid syntax\n"
     ]
    }
   ],
   "source": [
    "def forest(A[]):\n",
    "    \n",
    "# n:A[]の要素数\n",
    "    for i in n:\n",
    "        N = A[i]\n",
    "\n",
    "        for i in range(N+1):\n",
    "            for j in range(2N+3):\n",
    "                if  N+1-i<=j<=N+1+i:\n",
    "                    print(\"*\",end = \"\")\n",
    "                else:\n",
    "                    print(\"*\", end = \"\")\n",
    "            print()\n",
    "        for i in range(N):\n",
    "            for j in range(2N+3):\n",
    "                if j == N+1:\n",
    "                    print(\"*\", end = \"\")\n",
    "                else:\n",
    "                    print(\"  \",end = \"\")\n",
    "            print()\n"
   ]
  },
  {
   "cell_type": "markdown",
   "metadata": {},
   "source": [
    "## テストコード"
   ]
  },
  {
   "cell_type": "code",
   "execution_count": 3,
   "metadata": {},
   "outputs": [
    {
     "name": "stderr",
     "output_type": "stream",
     "text": [
      "..\n",
      "----------------------------------------------------------------------\n",
      "Ran 2 tests in 0.003s\n",
      "\n",
      "OK\n"
     ]
    }
   ],
   "source": [
    "import unittest\n",
    "\n",
    "class TestKadai(unittest.TestCase):\n",
    "    \n",
    "    def test_kadai1(self):\n",
    "        self.assertEqual(2, kadai1(1))\n",
    "        \n",
    "    def test_kadai2(self):\n",
    "        self.assertEqual(3, kadai2(1,2))\n",
    "\n",
    "if __name__ == '__main__':\n",
    "    unittest.main(argv=['first-arg-is-ignored'], exit=False)"
   ]
  }
 ],
 "metadata": {
  "kernelspec": {
   "display_name": "Python 3",
   "language": "python",
   "name": "python3"
  },
  "language_info": {
   "codemirror_mode": {
    "name": "ipython",
    "version": 3
   },
   "file_extension": ".py",
   "mimetype": "text/x-python",
   "name": "python",
   "nbconvert_exporter": "python",
   "pygments_lexer": "ipython3",
   "version": "3.7.3"
  }
 },
 "nbformat": 4,
 "nbformat_minor": 2
}
